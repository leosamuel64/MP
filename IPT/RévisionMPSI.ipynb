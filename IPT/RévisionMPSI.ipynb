{
 "cells": [
  {
   "cell_type": "markdown",
   "metadata": {},
   "source": [
    "# 1 -\n",
    "\n",
    "$\\forall x \\in \\mathbb{R}^*_+, ln(x)=\\int_1^x \\frac 1 t dt$  \n",
    "**Rappel** : Formule des trapezes\n",
    "$\\int_a^b \\approx (\\frac{f(b)f(a)}{2}+\\sum_{i=1}^{N-1}f(a+ih))h$ "
   ]
  },
  {
   "cell_type": "code",
   "execution_count": 7,
   "metadata": {},
   "outputs": [],
   "source": [
    "def trapèze(f,a,b,N):\n",
    "    h=(b-a)/N\n",
    "    res=0\n",
    "    for i in range(1,N):\n",
    "        res+= f(a+i*h)\n",
    "    res+= (f(b)*f(a))/2\n",
    "    return h*res"
   ]
  },
  {
   "cell_type": "code",
   "execution_count": 8,
   "metadata": {},
   "outputs": [
    {
     "data": {
      "text/plain": [
       "3.141487477002142"
      ]
     },
     "execution_count": 8,
     "metadata": {},
     "output_type": "execute_result"
    }
   ],
   "source": [
    "2*trapèze(lambda t: (1-t**2)**.5,-1,1,1000)"
   ]
  },
  {
   "cell_type": "code",
   "execution_count": 9,
   "metadata": {},
   "outputs": [],
   "source": [
    "import numpy as np"
   ]
  },
  {
   "cell_type": "code",
   "execution_count": 10,
   "metadata": {},
   "outputs": [
    {
     "data": {
      "text/plain": [
       "3.141592653589793"
      ]
     },
     "execution_count": 10,
     "metadata": {},
     "output_type": "execute_result"
    }
   ],
   "source": [
    "np.pi"
   ]
  },
  {
   "cell_type": "markdown",
   "metadata": {},
   "source": [
    "La fonction n'est pas $C^2$ alors la méthode des trapèzes n'est pas précise"
   ]
  },
  {
   "cell_type": "code",
   "execution_count": 11,
   "metadata": {},
   "outputs": [],
   "source": [
    "def ln1(x):\n",
    "    return trapèze(lambda t:1/t,1,x,int(100))"
   ]
  },
  {
   "cell_type": "code",
   "execution_count": 12,
   "metadata": {},
   "outputs": [
    {
     "data": {
      "text/plain": [
       "-0.6906534304818241"
      ]
     },
     "execution_count": 12,
     "metadata": {},
     "output_type": "execute_result"
    }
   ],
   "source": [
    "ln1(0.5)"
   ]
  },
  {
   "cell_type": "markdown",
   "metadata": {},
   "source": [
    "Cela marche encore lorsque l'on inverse les bornes"
   ]
  },
  {
   "cell_type": "markdown",
   "metadata": {},
   "source": [
    "Ensuite la fonction exp est la réciproque de ln  \n",
    "$\\forall x \\in \\mathbb(R), exp(x)=ln^{-1}(x)$ cad $exp(x)$ est le nombre tq $ln(exp(x))=x$  \n",
    "\n",
    "cad $exp(x)$ est la solution de l'équation $ln(z)=x$ d'inconnue $z \\in \\mathbb R^*_+$"
   ]
  },
  {
   "cell_type": "markdown",
   "metadata": {},
   "source": [
    "Méthode de Newton :\n"
   ]
  },
  {
   "cell_type": "code",
   "execution_count": 13,
   "metadata": {},
   "outputs": [],
   "source": [
    "def Newton(f, fprime, u0, eps):\n",
    "    u=u0\n",
    "    uSuivant=u-f(u)/fprime(u)\n",
    "    while abs(u-uSuivant)>eps:\n",
    "        u = uSuivant\n",
    "        uSuivant = u - (f(u)/fprime(u))\n",
    "    return u\n"
   ]
  },
  {
   "cell_type": "code",
   "execution_count": 14,
   "metadata": {},
   "outputs": [
    {
     "data": {
      "text/plain": [
       "2.741941984819644"
      ]
     },
     "execution_count": 14,
     "metadata": {},
     "output_type": "execute_result"
    }
   ],
   "source": [
    "Newton(lambda Z: ln1(Z)-1,lambda x : 1/x,1,0.001)"
   ]
  },
  {
   "cell_type": "code",
   "execution_count": 15,
   "metadata": {},
   "outputs": [],
   "source": [
    "def exp1(x):\n",
    "    if x >= 0:\n",
    "        return Newton(lambda Z: ln1(Z)-x,lambda x : 1/x,1,0.001)\n",
    "    else:\n",
    "        return 1/ Newton(lambda Z: ln1(Z)+x,lambda x : 1/x,0.001,0.001)\n"
   ]
  },
  {
   "cell_type": "code",
   "execution_count": 16,
   "metadata": {},
   "outputs": [
    {
     "data": {
      "text/plain": [
       "0.6047189245920686"
      ]
     },
     "execution_count": 16,
     "metadata": {},
     "output_type": "execute_result"
    }
   ],
   "source": [
    "exp1(-0.5)"
   ]
  },
  {
   "cell_type": "markdown",
   "metadata": {},
   "source": [
    "# 2 -\n",
    "\n",
    "On utilise le DL1 : $\\forall t \\in \\mathbb R$, $exp(t+dt)=exp(t)+dt\\cdot exp(t)+O(dt^2)$"
   ]
  },
  {
   "cell_type": "code",
   "execution_count": 17,
   "metadata": {},
   "outputs": [],
   "source": [
    "def euler(F, t0,tf,y0, n):\n",
    "    h = (tf-t0)/n\n",
    "    y = y0\n",
    "    t = t0\n",
    "    Y = [y0]\n",
    "    T = [t0]\n",
    "    for k in range(n):\n",
    "        y = y + h*F(y,t)\n",
    "        t = t + h\n",
    "        Y.append(y)\n",
    "        T.append(t)\n",
    "    return T,Y"
   ]
  },
  {
   "cell_type": "code",
   "execution_count": 18,
   "metadata": {},
   "outputs": [],
   "source": [
    "def exp2(x):\n",
    "    def F(y,t):\n",
    "        return y\n",
    "    n=100000\n",
    "    _,Y= euler(F,0,x,1,n)\n",
    "    return Y[-1]"
   ]
  },
  {
   "cell_type": "code",
   "execution_count": 19,
   "metadata": {},
   "outputs": [
    {
     "data": {
      "text/plain": [
       "22015.456048552514"
      ]
     },
     "execution_count": 19,
     "metadata": {},
     "output_type": "execute_result"
    }
   ],
   "source": [
    "exp2(10)"
   ]
  },
  {
   "cell_type": "code",
   "execution_count": 29,
   "metadata": {},
   "outputs": [],
   "source": [
    "def ln2(x):\n",
    "    return Newton(lambda Z: exp2(Z)-x,lambda x : exp2(x),0,0.000001)"
   ]
  },
  {
   "cell_type": "code",
   "execution_count": 30,
   "metadata": {},
   "outputs": [
    {
     "data": {
      "text/plain": [
       "0"
      ]
     },
     "execution_count": 30,
     "metadata": {},
     "output_type": "execute_result"
    }
   ],
   "source": [
    "ln2(1)"
   ]
  },
  {
   "cell_type": "markdown",
   "metadata": {},
   "source": [
    "# 3 -\n",
    "$exp(t+dt)=exp(t)+dt\\cdot exp(t)+O(dt^2)$.\n",
    "A chaque étape, on fait une erreur de $O(dt^2)$. Pour aller de $t=0$ à $t=x$, cela fait $\\left\\lfloor\\dfrac{x}{dt}\\right\\rfloor+1$ pas.\n"
   ]
  },
  {
   "cell_type": "markdown",
   "metadata": {},
   "source": [
    "# 4 -\n",
    "On a $$e^x=\\sum_{k=0}^{\\infty} \\frac {x^k} {k!}$$"
   ]
  },
  {
   "cell_type": "code",
   "execution_count": 45,
   "metadata": {},
   "outputs": [],
   "source": [
    "def exp3(x,n=10000):\n",
    "    res=1\n",
    "    v = 1\n",
    "    for k in range(1,n+1):\n",
    "        v*=x/k\n",
    "        res+=v\n",
    "    return res"
   ]
  },
  {
   "cell_type": "code",
   "execution_count": 46,
   "metadata": {},
   "outputs": [
    {
     "data": {
      "text/plain": [
       "22026.465794806714"
      ]
     },
     "execution_count": 46,
     "metadata": {},
     "output_type": "execute_result"
    }
   ],
   "source": [
    "exp3(10)"
   ]
  },
  {
   "cell_type": "markdown",
   "metadata": {},
   "source": [
    "La formule qui nous donne la precision : \n",
    "On a avec la formule de l'inégalité de Taylor-Lagrange : $$e^x-\\sum_{k=0}^{N-1}\\frac{x^k}{k!}\\leq |f^{(N)}(c)| \\frac{|x|^N}{N!} \\leq max(1,k^x)\\frac{|x|^N}{N!}$$"
   ]
  }
 ],
 "metadata": {
  "kernelspec": {
   "display_name": "Python 3.5.3 64-bit",
   "language": "python",
   "name": "python35364bit95dee2d7a0994be08ac7a3dcfbc87abd"
  },
  "language_info": {
   "codemirror_mode": {
    "name": "ipython",
    "version": 3
   },
   "file_extension": ".py",
   "mimetype": "text/x-python",
   "name": "python",
   "nbconvert_exporter": "python",
   "pygments_lexer": "ipython3",
   "version": "3.5.3"
  }
 },
 "nbformat": 4,
 "nbformat_minor": 2
}
