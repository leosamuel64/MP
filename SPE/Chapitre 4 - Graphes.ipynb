{
 "cells": [
  {
   "cell_type": "markdown",
   "metadata": {},
   "source": [
    "# Vocabulaire\n",
    "\n",
    "Un graphe est formé de :  \n",
    "- un ensemble, appelé ensemble des sommets (Noté $S$ ou $V$)\n",
    "- un sous-ensemble de $S^2$, appelé ensemble des arrêtes (Noté $E$)\n",
    "\n",
    "**Exemple :** $S={1,2,3,4}$ et $A={(1,2),(1,3),(2,1)}$ Alors $(S,A)$ est un graphe.  \n",
    "Représentation graphique : \n",
    "\n",
    "Soit $k=(S,A)$ un graphe.  \n",
    "- Un chemin est une suite $(s_0,...,s_n) \\in S^{n+1}$ tq $\\forall i \\in ⟦0,n⟦, (s_i,s_{i+1}\\in A$  \n",
    "- Deux sommet $s$,$t$ $\\in S^n$ sont dits reliés lorsqu'il existe un chemin de $s$ à $t$.\n",
    "- La longueur d'un chemin est le nombre d'arretes empruntées\n",
    "- $\\forall (s,t)) \\in S^2)$ deux sommets reliés. On note $d(s,t)$ la longueur du plus court chemin de $s$ à $t$.\n",
    "- On dit que $G$ est non orienté lorsque $\\forall (s,t) \\in S^2, (s,t) \\in A \\equiv (t,s) \\in A$.  \n",
    "- Supposons G non-orienté\n",
    "    - on dit que G est connexe lorsque tous ses sommets sont reliés\n",
    "    - $\\forall ss \\in S$, on appelle composant connexe de $s$ l'ensemble des sommets accessible depuis $s$\n",
    "\n",
    "**Propriété :** Supp G connexe et non orienté. La distance vérifie :\n",
    "- $\\forall (s,t) \\in S^2, d(s,t)=d(t,s)$\n",
    "- $\\forall (s,t,u) \\in S^3, d(s,t) \\leq d(s,u) + d(u,t)$ (Inégalité triangulaire)\n",
    "- $\\forall (s,t) \\in S^2, d(s,t)=0 \\equiv s=t$\n",
    "\n",
    "Remarque : Si $G$ n'est pas connexe, on pose $\\forall (s,t) \\in S^2$ non connectés : $d(s,t)=+\\infty$  \n",
    "\n",
    "- si $G$ est orienté, les deux derniers points restent valides\n",
    "\n",
    "**Demonstration :** Soit $(s,t) \\in S^2$, notons $a=d(s,t)$ et $b=d(t,s)$.  \n",
    "Montrons que $a=b$  \n",
    "Soit $\\gamma$ un plus court chemin de $s$ à $t$. Il est de longueur a. Soit $s_o,...,s_a$ les sommets traversé par $\\gamma$.  \n",
    "\n",
    "$(s_a,s_{a-1},...,s_o)$ est aussi un chemin. Notons le $\\gamma^T$. Sa longueur est $a$.  \n",
    "Donc il existe un chemin de longueur $a$ de $t$ vers $s$. Donc $d(t,s)\\leq l$, cad $b\\leq a$.  \n",
    "Puis avec le même raisonement, on a $a\\leq b$  \n",
    "\n",
    "Soit $(s,t,u) \\in S^3$. Soit $\\gamma_1$ un chemin de $s$ à $t$ et $\\gamma_2$ un chemin de $t$ à $s$.  \n",
    "\n",
    "Notons $@$ la concatenation des chemin et $|.|$ la longueur.  \n",
    "$\\gamma_1 @ \\gamma_2$ est un chemin de s à u de longueur $|\\gamma_1|+|\\gamma_2|$  \n",
    "Donc il existe un chemin de $s$ à $u$ de longueur $|\\gamma_1|+|\\gamma_2|$.  \n",
    "Donc $d(s,u) \\leq |\\gamma_1|+|\\gamma_2| = d(s,t)+d(t,u)$\n",
    "\n",
    "Soit $(s,t) \\in S^2$ :  \n",
    "Si $s=t$, soit $\\gamma=(s)$. $\\gamma$ relie $s$ à $t$ et sa longueur est $0$.  \n",
    "\n",
    "Si $d(s,t)=0$. Soit $\\gamma$ un plus court chemin de $s$ à $t$. $|\\gamma|=0$. Donc le sommet de départ est le sommet d'arrivé donc $s=t$ "
   ]
  },
  {
   "cell_type": "markdown",
   "metadata": {},
   "source": [
    "# Implementation\n",
    "\n",
    "Soit $G$ un graphe et $(S,E)$ ses composants   \n",
    "Soit $n=|S|$.  \n",
    "On supp dans la suite que $S=⟦0,n⟦$  \n",
    "On utilise principalement deux méthodes pour enregistrer G.\n",
    "\n",
    "- Matrice d'adjacence  \n",
    "C'est la matrice $M\\in \\mathbb M_n(\\mathbb N)$ tq $\\forall (i,j) \\in ⟦0,n⟦^2, M_{i,j}=(1 \\text{ si } (i,j) \\in A) (0 \\text{ sinon })$\n",
    "\n",
    "- Tableau de liste d'adjacences  \n",
    "C'est le tableau g de longueur n tq $\\forall i \\in ⟦0,n⟦$.\n",
    "g.(i) contient la liste des voisins de i"
   ]
  },
  {
   "cell_type": "code",
   "execution_count": 14,
   "metadata": {},
   "outputs": [
    {
     "data": {
      "text/plain": [
       "type graphe1 = int array array\n"
      ]
     },
     "execution_count": 14,
     "metadata": {},
     "output_type": "execute_result"
    },
    {
     "data": {
      "text/plain": [
       "type graphe2 = int list array\n"
      ]
     },
     "execution_count": 14,
     "metadata": {},
     "output_type": "execute_result"
    }
   ],
   "source": [
    "type graphe1 = int array array;;\n",
    "type graphe2 = int list array;; "
   ]
  },
  {
   "cell_type": "markdown",
   "metadata": {},
   "source": [
    "# Parcours d'un graphe\n",
    "\n",
    "Souvent, on a besoin de parcourir les sommets de proche en proche à partir d'un sommet de départ.\n",
    "\n",
    "## Vocabulaire et invariants de boucle\n",
    "\n",
    "**Vocabulaire :** \n",
    "- Un sommet est dit *blanc* s'il n'est pas découvert\n",
    "- Un sommet est dit *noir* s'il a été traité\n",
    "- Un sommet est dit *gris* s'il est découvert mais pas traité (Sommet alors à traité)\n",
    "\n",
    "**Invariants de boucle :**\n",
    "- (V N) : Les voisins des sommet noir sont noirs ou gris\n",
    "- (V G) : Tout sommet gris a au moins un voisin noir\n",
    "\n",
    "Les seuls changement de couleurs autorisés sont de *blanc vers gris* et de *gris vers noir*  \n",
    "\n",
    "NB : Pour que le programme termine, il faudra éviter de revenir à un noir.  \n",
    "\n",
    "Consequences des invariants de boucle :\n",
    "\n",
    "**Lemme 1 :**  \n",
    "On suppose (V N) et (V G) vérifiés. On suppose que l'algo a aussi satisfait à (C C). On suppose qu'il n'y a plus de sommet gris.  \n",
    "Alors les sommets blancs sont déconnectés des noirs cad : $\\not\\exists$ des chemins d'un noir vers un blanc\n",
    "\n",
    "**Preuve :**  \n",
    "Supposons qu'il existe un chemin $\\gamma$ tq en notant $n=|\\gamma|$ et $s_0,...s_n$ ses sommets, $s_0$ est noir et $s_n$ est blanc. Soit $i=\\max\\{k\\in ⟦0,n⟧,s_k \\text{noir}\\}$. On a $i \\leq n$ car $s_n$ est blanc. Donc $s_{i+1}$ existe, et est différent de noir. Donc $s_{i+1}$ est blanc car pas de gris par hypothese. Donc (V N) n'est pas vérifiée en $s_{i}$ et $s_{i+1}$  \n",
    "\n",
    "**Lemme 2 :**  \n",
    "On suppose (V N), (V G), (C C). Notons $D$ l'ensemble des gris ou noir au debut de l'algorithme. Alors tout sommet noir ou gris est relié à $D$  $(*)$  \n",
    "\n",
    "**Preuve :**  \n",
    "Notons $(*)$ la propriété et verifions que c'est un invariant de boucle.  \n",
    "*Initialisation :* Soit $s$ un sommet noir ou gris au debut de l'algo alors $s \\in D$. Prendre $\\gamma = (s)$ de longueur 0 il relie s à l.  \n",
    "*Heredité :* Supposons $(*)$ vraie à un instant de l'algo. Effectuant une étape qui respecte (V N), (V G), et (C C).  \n",
    "S'il y a un changement de couleurs de gris vers noir, l'ensemble des sommets noirs ou gris n'est pas changé donc $(*)$ reste vrai.  \n",
    "S'il y a un changement blanc vers gris, Soit $s$ le sommet concerné. Par (V G), $s$ a un voisin noir,disons $t$. Par hypothese de récurrence, $t$ est relié à $l$. Alors $s$ est relié à $l$\n",
    "\n",
    "**Proposition :**  \n",
    "On suppose qu'il n'y a plus de (V N), (V G), (C C). On suppose qu'au début de l'algo, $N=\\emptyset$ et un seul sommet est gris, notons le $s_d$. On suppose que à la fin, $G=\\emptyset$  \n",
    "Alors à la fin de la boucle, $N=$ (la composante connexe de $s_d$)  \n",
    "\n",
    "Rappel : La composante connexe de  $s_d$ est l'ensemble des sommets reliés a $s_d$  \n",
    "\n",
    "Remarque : C'est aussi la plus petite composante connexe de $G$ contenant $s_d$\n",
    "\n",
    "**Preuve :**  \n",
    "Montrons que $N \\subset CC$ de $s_d$. Soit $s \\in N$, par le lemme 2, $s$ est rellié à $s_d$  \n",
    "Montrons que N $\\not\\subset$ CC de $s_d$. Soit $s$ relié a $s_d$, par le lemme 1, $s \\not\\in B$ et $G=\\emptyset$ alors $s \\in N$  \n",
    "\n",
    "Ainsi un algo vérifiant nos 3 props permet de trouver la composante connexe de $s_d$. Ce sera notre premier exemple. Une simple modification permettra de trouver un chemin de $s_d$ vers un autre sommet $s_a$. Puis un plus court chemin.  \n",
    "\n",
    "## Squelette de programme impératif\n",
    "\n",
    "### Algorithme\n",
    "\n",
    "Entrée :\n",
    "- Un graphe $(S,A)$\n",
    "- Un sommet $s_d \\in S$\n",
    "\n",
    "Créer 3 ensembles $N$,$G$ et $B$  \n",
    "$N$ <- $\\emptyset$\n",
    "$B$ <- S  \n",
    "$G$ <- $\\emptyset$  \n",
    "\n",
    "Peindre $s_d$ en gris  \n",
    "\n",
    "Tant que $G \\not= \\emptyset$:  \n",
    "\n",
    "----extraire un sommet $s$ de $G$  \n",
    "----Faire quelque chose  \n",
    "----Peindre $s$ en noir  \n",
    "    \n",
    "----$\\forall t$ voisin de $s$:  \n",
    "--------Si $t \\in B$, le peindre en gris    \n",
    "Renvoyer le resultat\n",
    "\n",
    "### Les invariants de boucle\n",
    "\n",
    "- (V N) est verifié\n",
    "- (C C) est vérifié\n",
    "- (V G) est vérifié\n",
    "\n",
    "### En pratique\n",
    "(cf exercice 1 pour programmer la boucle interne)  \n",
    "\n",
    "Comment enregistrer $N$,$G$,$B$ ?  \n",
    "\n",
    "En général, \n",
    "- $B$ n'est pas enregistré. Ce sont les sommets ni noirs, ni gris\n",
    "- $N$ : Un tableau \"deja_vu\" tq $\\forall i \\in S$, deja_vu.(i) <=> $i \\in N$\n",
    "- $G$ : ça dépend de l'ordre dans lequel on veut traiter les sommets\n",
    "\n",
    "### En autorisant les doublons dans G\n",
    "\n",
    "Il est souvent plus pratique et parfois obligatoire d'utiliser à la place de $G$ une structure qui autorise les doublons.  \n",
    "Exemple : $(1,4,0,2,4)$ Après avoir traité $4$, celui-ci devient noir, et la file contient donc des noirs.  \n",
    "\n",
    "Ainsi :\n",
    "- La structure utilisée ne s'appellera plus $G$ mais aVisiter\n",
    "- Quand on sort un sommet de aVisiter, il faut vérifier qu'il est gris\n",
    "\n",
    "Alors l'algo devient  \n",
    "\n",
    "Créer 3 ensembles $N$,$G$ et $B$  \n",
    "$N$ <- un tab de |S| bool initialement faux  \n",
    "aVisiter <- Une structure contenant initialement $s_d$    \n",
    "Peindre $s_d$ en gris  \n",
    "Tant que $G \\not= \\emptyset$:  \n",
    "----extraire un sommet $s$ de Avisiter  \n",
    "----Si Non N.(s):\n",
    "--------Faire quelque chose  \n",
    "--------Peindre $s$ en noir  \n",
    "--------$\\forall t$ voisin de $s$:  \n",
    "------------Si NON N.(t):  \n",
    "----------------Mettre t dans aVisiter  \n",
    "Renvoyer le resultat  \n",
    "\n",
    "**Exemple :** Calcul de composante connexe. Avec pour aVisiter une file d'attente  "
   ]
  },
  {
   "cell_type": "code",
   "execution_count": 15,
   "metadata": {},
   "outputs": [
    {
     "data": {
      "text/plain": [
       "val composante_connexe_largeur : int list array -> int -> int list = <fun>\n"
      ]
     },
     "execution_count": 15,
     "metadata": {},
     "output_type": "execute_result"
    }
   ],
   "source": [
    "let composante_connexe_largeur g sd=\n",
    "  let n= Array.length g in\n",
    "  let deja_vu= Array.make n false in\n",
    "  let a_Visiter= Queue.create () in\n",
    "  Queue.add sd a_Visiter; \n",
    "  let rec visite_voisins = function\n",
    "    | [] -> ()\n",
    "    | t::q -> Queue.add t a_Visiter;\n",
    "              visite_voisins q\n",
    "  in\n",
    "  while  not (Queue.is_empty a_Visiter) do\n",
    "    let s= Queue.take a_Visiter in\n",
    "    if not (deja_vu.(s)) then\n",
    "    (\n",
    "      visite_voisins g.(s);\n",
    "      deja_vu.(s) <- true;\n",
    "    )\n",
    "  done;\n",
    "  (* Maintenant, la composante connexe de sd correspond aux sommetsde deja_vu *)\n",
    "  let res = ref [] in\n",
    "  for i=0 to n-1 do\n",
    "    if deja_vu.(i) then \n",
    "      res:= i::(!res)\n",
    "  done;\n",
    "  !res\n",
    "  ;;"
   ]
  },
  {
   "cell_type": "code",
   "execution_count": 16,
   "metadata": {},
   "outputs": [
    {
     "data": {
      "text/plain": [
       "val exemple1 : int list array = [|[1; 2]; []; [1; 3]; [1]; [5]; []|]\n"
      ]
     },
     "execution_count": 16,
     "metadata": {},
     "output_type": "execute_result"
    }
   ],
   "source": [
    "let exemple1 = \n",
    "[|  [1;2];\n",
    "    [];\n",
    "    [1;3];\n",
    "    [1];\n",
    "    [5];\n",
    "    []\n",
    "|]"
   ]
  },
  {
   "cell_type": "code",
   "execution_count": 17,
   "metadata": {},
   "outputs": [
    {
     "data": {
      "text/plain": [
       "- : int list = [3; 2; 1; 0]\n"
      ]
     },
     "execution_count": 17,
     "metadata": {},
     "output_type": "execute_result"
    }
   ],
   "source": [
    "composante_connexe exemple1 0;;"
   ]
  },
  {
   "cell_type": "markdown",
   "metadata": {},
   "source": [
    "### Terminaison\n",
    "\n",
    "Variant de boucle :\n",
    "- Pour la version 1 (sans doublons dans $G$), le nombre de sommets non noirs est un variant de boucle.\n",
    "- Pour la version 2 (avec A_visiter qui peut contenir des doublons), on peut prendree le couple (nombre de sommets non noir,|aVisiter|) pour l'ordre lexicographique (Demonstration dans le poly). \n",
    "\n",
    "### Complexité\n",
    "\n",
    "Méthode de l'exercice 1 :  \n",
    "Prendre chaque ligne, voir ce qu'elle coute et combien de fois max elle est executée.\n",
    "\n",
    "On a alors $C=O(|A|)+O(|S|)$"
   ]
  },
  {
   "cell_type": "code",
   "execution_count": 18,
   "metadata": {},
   "outputs": [
    {
     "data": {
      "text/plain": [
       "val composante_connexe : int list array -> int -> int list = <fun>\n"
      ]
     },
     "execution_count": 18,
     "metadata": {},
     "output_type": "execute_result"
    }
   ],
   "source": [
    "let composante_connexe g sd=\n",
    "  let n= Array.length g in (*O(1)*)\n",
    "  let deja_vu= Array.make n false in (*O(n)*)\n",
    "  let a_Visiter= Queue.create () in (*O(1)*)\n",
    "  Queue.add sd a_Visiter;  (*O(1)*)\n",
    "  let rec visite_voisins = function  (*O(|A|)*)\n",
    "    | [] -> () (*O(1)*)\n",
    "    | t::q -> Queue.add t a_Visiter; (*O(1)*)\n",
    "              visite_voisins q \n",
    "  in\n",
    "  while  not (Queue.is_empty a_Visiter) do (*O(|A|)*)  (* Nombre d'élément au max dans la file : O(|A|)*)\n",
    "    let s= Queue.take a_Visiter in (*O(|A|)*)\n",
    "    if not (deja_vu.(s)) then    (*O(|A|)*)\n",
    "    (\n",
    "      visite_voisins g.(s);  (*O(|A|)*)\n",
    "      deja_vu.(s) <- true;   (*O(|S|)*)\n",
    "    )\n",
    "  done;\n",
    "  (* Maintenant, la composante connexe de sd correspond aux sommets de deja_vu *)\n",
    "  let res = ref [] in (*O(1)*)\n",
    "  for i=0 to n-1 do (*O(n)*)\n",
    "    if deja_vu.(i) then  (*O(n)*)\n",
    "      res:= i::(!res)(*O(n)*)\n",
    "  done;\n",
    "  !res(*O(1)*)\n",
    "  ;;"
   ]
  },
  {
   "cell_type": "markdown",
   "metadata": {},
   "source": [
    "## Parcours en largeur\n",
    "\n",
    "Un parcours en largeur traite d'abord les sommets les plus proches du sommet de départ.\n",
    "\n",
    "Pour réaliser un parcours en largeur, on prend aVisiter de type file d'attente.  \n",
    "Les deux exemples précedents étaient des parcours en largeur.  \n",
    "\n",
    "Evolution de la file d'attente sur un exemple\n",
    "\n",
    "$\\vec{(0)}$  \n",
    "$\\vec{(4,5)}$  \n",
    "$\\vec{(4,2,4)}$  \n",
    "$\\vec{(3,2,4,2)}$  \n",
    "$\\vec{(1,3,2,4)}$  \n",
    "$\\vec{(1,3,2)}$  \n",
    "$\\vec{(1,3)}$  \n",
    "$\\vec{(1,1)}$  \n",
    "$\\vec{(1)}$  \n",
    "$\\vec{(\\emptyset)}$  \n",
    "\n",
    "### Invariant de boucle du parcours en largeur\n",
    "\n",
    "**Propriété :**  \n",
    "A un certain instant d'un parcours en largeur. Soit $n$ le nombre de sommets dans la file et $s_0,...,s_{n-1}$ les sommets dans l'ordre.  \n",
    "Alors $\\exists d \\in \\mathbb N$ et $k \\in ⟦0,n⟦$ tq $\\vec{(s_{n-1},...,s_k,...,s_0)}$\n",
    "- $s_0,...,s_{k-1}$ sont à distance inferieur a $d$ de $s_d$\n",
    "- $s_k,...,s_{n}$ sont a distance inferieur a $d+1$ de $s_d$\n",
    "\n",
    "En outre, les noirs sont les sommets à distance inferieur a $d-1$ ainsi que les sommets à distance $d$ qui ne sont pas dans la file.\n",
    "\n",
    "**Application :** Montrons que le programme est correct :"
   ]
  },
  {
   "cell_type": "code",
   "execution_count": 19,
   "metadata": {},
   "outputs": [
    {
     "data": {
      "text/plain": [
       "val plus_court_chemin : int -> int -> int list array -> int list = <fun>\n"
      ]
     },
     "execution_count": 19,
     "metadata": {},
     "output_type": "execute_result"
    }
   ],
   "source": [
    "let plus_court_chemin sd sa g=\n",
    "  let n= Array.length g in\n",
    "  let chemin = Array.make n [] in \n",
    "  let dist = Array.make n (-1) in\n",
    "  let a_Visiter= Queue.create () in\n",
    "  let deja_vu= Array.make n false in\n",
    "\n",
    "  Queue.add sd a_Visiter; \n",
    "  chemin.(sd)<-[sd];\n",
    "\n",
    "  let rec visite_voisins s l=\n",
    "    match l with \n",
    "    | [] -> ()\n",
    "    | t::q when dist.(t)=(-1) ->   Queue.add t a_Visiter;\n",
    "                                    dist.(t)<- dist.(s)+1;\n",
    "                                    chemin.(t)<- t::chemin.(s);\n",
    "                                    visite_voisins s q\n",
    "    | t::q -> visite_voisins s q\n",
    "    in\n",
    "  while  not (Queue.is_empty a_Visiter) && chemin.(sa)=[] do\n",
    "    let s= Queue.take a_Visiter in\n",
    "    if not (deja_vu.(s)) then\n",
    "    (\n",
    "      visite_voisins s g.(s);\n",
    "      deja_vu.(s) <- true;\n",
    "    )\n",
    "  done;\n",
    "  List.rev chemin.(sa)\n",
    "  ;;"
   ]
  },
  {
   "cell_type": "markdown",
   "metadata": {},
   "source": [
    "On a programmé que la file n'a pas de doublon. Donc la file d'attente ne contient que des gris. Alors on peut enlevé la vérification avec le \"if\" (version du paragraphe 3.2.1 - \"Si s n'est pas noir\" de la boucle principale devient inutile)  \n",
    "\n",
    "$\\exists n \\in \\mathbb N, R \\in \\mathbb N,(s_0,...,s_n) \\in S^{n+1},d \\in \\mathbb N, aVivister = \\{s_n,...,s_k,s_{k+1},...s_n\\}$  \n",
    "\n",
    "Prouvons que la propriété est un invariant de boucle pour tout parcours en largeur :  \n",
    "$(I) : \"\\forall s \\in S, dist.(s)= d(s_d,s) \\text{ si } s \\text{ est noir ou gris et } -1 \\text{ sinon}$  \n",
    "En outre, aVisiter n'a pas de doublon et ne contient que des gris$\"$.\n",
    "\n",
    "*Initialisation :* Avant la boucle, \n",
    "- $aVisiter = \\vec{s_d}$ et $dist.(s_d)=0$\n",
    "- Pas de noir\n",
    "- $\\forall s \\in S-\\{s_d\\}, dist.(s)=-1$\n",
    "\n",
    "*Hérédité :* On se place au début d'une itération où $(I)$ est vrai.  \n",
    "Soit $n,k,(s_0,...,s_n,d$ :  \n",
    "$aVivister = \\{s_n,...,s_k,s_{k+1},...s_n\\}$  \n",
    "On extrait $s_0$ et on lance ```visite_voisin s0 g.(s0) ```.\n",
    "\n",
    "Soit t un voisin de $s_0$\n",
    "\n",
    "- Si $dist.(t) = -1 :$\n",
    "Donc t est blanc. De plus, tous les sommets à distance inférieur à $d$ de $s_d$ sont noirs ou gris.  \n",
    "Donc $d(s_d,t)>d$  \n",
    "En outre, $dist.(s_0)=d(s_d,s_0)$.  \n",
    "De plus $s_0$ n'est pas noir donc $s_0 \\not\\in \\bar{B}(s_d,d)$  \n",
    "\n",
    "Donc $d(s_d,d_0)=d$\n",
    "\n",
    "Donc il existe u chemin de distance d+1 de $s_d$ à t donc $d(s_d,t) \\leq d+1$\n",
    "\n",
    "Alors $d(s_d,t)=d+1$  \n",
    "\n",
    "On a bien $dist.(t) = d(s_d,t)$  \n",
    "\n",
    "- Si $dist.(t) \\not= -1$ alors t était noir ou gris, $dist.(t)=d(s_d,t)$\n",
    "- aVisiter n'a pas de doublon car on rajoute t que s'il était blanc et dans ce cas il n'était pas dans aVisiter  \n",
    "- aVisiter n'a que des gris, le seul sommets devenu noir en $s_0$ et il n'est plus dans aVisiter (pas de doublon)\n",
    "\n",
    "Conclusion : sortie de la boucle\n",
    "- Si aVisiter est vide et $dist.(s_a)=-1$ : alors $s_a$ n'est pas relié au sommet de départ $s_d$\n",
    "- Sinon, $dist.(s_a) = d(s_d,s_a)$"
   ]
  },
  {
   "cell_type": "markdown",
   "metadata": {},
   "source": [
    "## Parcours en profondeur\n",
    "\n",
    "Dans un parcours en profondeur, on poursuit un chemin autant que possible avant de partir sur un autre. Plus précisement, on visite en priorité les voisins du dernier sommet visité. Il suffit de remplacer la file par une pile.\n",
    "\n",
    "**Exemple :** Calcul d'un composante connexe  "
   ]
  },
  {
   "cell_type": "code",
   "execution_count": 20,
   "metadata": {},
   "outputs": [
    {
     "data": {
      "text/plain": [
       "val composante_connexe_profondeur : int list array -> int -> int list = <fun>\n"
      ]
     },
     "execution_count": 20,
     "metadata": {},
     "output_type": "execute_result"
    }
   ],
   "source": [
    "let composante_connexe_profondeur g sd=\n",
    "  let n= Array.length g in\n",
    "  let deja_vu= Array.make n false in\n",
    "  let a_Visiter= Stack.create () in\n",
    "  Stack.push sd a_Visiter; \n",
    "  let rec visite_voisins = function\n",
    "    | [] -> ()\n",
    "    | t::q -> Stack.push t a_Visiter;\n",
    "              visite_voisins q\n",
    "  in\n",
    "  while  not (Stack.is_empty a_Visiter) do\n",
    "    let s= Stack.pop a_Visiter in\n",
    "    if not (deja_vu.(s)) then\n",
    "    (\n",
    "      visite_voisins g.(s);\n",
    "      deja_vu.(s) <- true;\n",
    "    )\n",
    "  done;\n",
    "  (* Maintenant, la composante connexe de sd correspond aux sommetsde deja_vu *)\n",
    "  let res = ref [] in\n",
    "  for i=0 to n-1 do\n",
    "    if deja_vu.(i) then \n",
    "      res:= i::(!res)\n",
    "  done;\n",
    "  !res\n",
    "  ;;"
   ]
  },
  {
   "cell_type": "code",
   "execution_count": 21,
   "metadata": {},
   "outputs": [
    {
     "data": {
      "text/plain": [
       "val testTab : int list array = [|[1; 2]; [3; 4; 5]; [6]; [4]; []; []; [0]|]\n"
      ]
     },
     "execution_count": 21,
     "metadata": {},
     "output_type": "execute_result"
    },
    {
     "data": {
      "text/plain": [
       "- : int list = [6; 5; 4; 3; 2; 1; 0]\n"
      ]
     },
     "execution_count": 21,
     "metadata": {},
     "output_type": "execute_result"
    }
   ],
   "source": [
    "let testTab = [|[1;2];[3;4;5];[6];[4];[];[];[0]|];;\n",
    "\n",
    "composante_connexe_profondeur testTab 2;;"
   ]
  },
  {
   "cell_type": "markdown",
   "metadata": {},
   "source": [
    "*remarque :* Pour faire un vrai parcours en profondeur, il faut autoriser les doublons dans  la pile ```aVisiter```\n",
    "\n",
    "Le parcours en largeur est équivalent au parcours en profondeur (complexité : ($O(|S|+|A|)$)\n",
    "\n",
    "Cependant, il est plus facile à programmer en récursif.\n",
    "\n",
    "### Révision de parcours en profondeur d'un arbre de valence non bornée"
   ]
  },
  {
   "cell_type": "code",
   "execution_count": 22,
   "metadata": {},
   "outputs": [
    {
     "data": {
      "text/plain": [
       "type 'a arbre = Noeud of 'a * 'a arbre list\n"
      ]
     },
     "execution_count": 22,
     "metadata": {},
     "output_type": "execute_result"
    },
    {
     "data": {
      "text/plain": [
       "val arbre_exemple : int arbre =\n",
       "  Noeud (2,\n",
       "   [Noeud (3, [Noeud (4, []); Noeud (5, [])]); Noeud (-1, []); Noeud (5, [])])\n"
      ]
     },
     "execution_count": 22,
     "metadata": {},
     "output_type": "execute_result"
    },
    {
     "data": {
      "text/plain": [
       "val somme : int arbre -> int = <fun>\n",
       "val somme_foret : int arbre list -> int = <fun>\n"
      ]
     },
     "execution_count": 22,
     "metadata": {},
     "output_type": "execute_result"
    },
    {
     "data": {
      "text/plain": [
       "- : int = 18\n"
      ]
     },
     "execution_count": 22,
     "metadata": {},
     "output_type": "execute_result"
    },
    {
     "data": {
      "text/plain": [
       "val etiquettes_arbre : 'a arbre -> 'a list = <fun>\n",
       "val etiquettes_foret : 'a arbre list -> 'a list = <fun>\n"
      ]
     },
     "execution_count": 22,
     "metadata": {},
     "output_type": "execute_result"
    },
    {
     "data": {
      "text/plain": [
       "- : int list = [2; 3; 4; 5; -1; 5]\n"
      ]
     },
     "execution_count": 22,
     "metadata": {},
     "output_type": "execute_result"
    }
   ],
   "source": [
    "type 'a arbre = Noeud of 'a * ('a arbre) list;; \n",
    "\n",
    "let arbre_exemple=\n",
    "  Noeud(2,[\n",
    "    Noeud(3,[\n",
    "      Noeud(4,[]);\n",
    "      Noeud(5,[])\n",
    "    ]);\n",
    "    Noeud(-1,[]);\n",
    "    Noeud(5,[])\n",
    "  ]);;\n",
    "\n",
    "let rec somme = function\n",
    "  | Noeud(e,fils) -> e + somme_foret fils\n",
    "and somme_foret = function\n",
    "  | [] -> 0\n",
    "  | t::q -> (somme t)+somme_foret(q)\n",
    ";;\n",
    "    \n",
    "somme arbre_exemple;;\n",
    "\n",
    "let rec etiquettes_arbre = function\n",
    "  | Noeud(e,fils)-> e::(etiquettes_foret fils)\n",
    "and etiquettes_foret = function\n",
    "  | [] -> []\n",
    "  | t::q -> etiquettes_arbre(t)@(etiquettes_foret q)\n",
    ";;\n",
    "\n",
    "etiquettes_arbre arbre_exemple;;"
   ]
  },
  {
   "cell_type": "markdown",
   "metadata": {},
   "source": [
    "En général, on ecrit deux fonctions récursives : une sur les arbres et une sur les forêts (liste d'arbres)"
   ]
  },
  {
   "cell_type": "markdown",
   "metadata": {},
   "source": [
    "### Parcours en profondeur d'un graphe, version recursive\n",
    "\n",
    "On utilise deux fonctions mutuellement récursive :\n",
    "- une qui traite un sommet\n",
    "- une qui traite la liste des sommets\n",
    "\n",
    "**Squellette du programme :**"
   ]
  },
  {
   "cell_type": "code",
   "execution_count": 10,
   "metadata": {},
   "outputs": [
    {
     "ename": "error",
     "evalue": "compile_error",
     "output_type": "error",
     "traceback": [
      "\u001b[32mFile \"[10]\", line 11, characters 4-5:\n\u001b[31mError: Syntax error\n\u001b[36m  10: \u001b[30m    | [] -> (* Renvoyer quelque chose *)\n\u001b[36m  11: \u001b[30m    \u001b[4m|\u001b[0m\u001b[30m t::autre_Voisin when not(deja_vu.(t)) -> (* Renvoyer quelque chose avec visite_sommet et visite_voisins *)\n\u001b[36m  12: \u001b[30m    | t::autre_Voisin -> visite_voisins autre_Voisin\u001b[0m\n"
     ]
    }
   ],
   "source": [
    "let parcours_prof g sd =\n",
    "  let n = Array.length g in\n",
    "  let deja_vu = Array.make n false in\n",
    "\n",
    "  let rec visite_sommet s=\n",
    "    deja_vu.(s) <- true;\n",
    "    (* Faire quelque chose avec s... *)\n",
    "    visite_voisins s g.(s)\n",
    "  and visite_voisins s= function\n",
    "    | [] -> (* Renvoyer quelque chose *)\n",
    "    | t::autre_Voisin when not(deja_vu.(t)) -> (* Renvoyer quelque chose avec visite_sommet et visite_voisins *)\n",
    "    | t::autre_Voisin -> visite_voisins autre_Voisin\n",
    "\n",
    "  in visite_sommet sd\n",
    ";; "
   ]
  },
  {
   "cell_type": "code",
   "execution_count": 11,
   "metadata": {},
   "outputs": [
    {
     "data": {
      "text/plain": [
       "val composante_connexe_rec : int list array -> int -> int list = <fun>\n"
      ]
     },
     "execution_count": 11,
     "metadata": {},
     "output_type": "execute_result"
    }
   ],
   "source": [
    "let composante_connexe_rec g sd=\n",
    "  let n = Array.length g in\n",
    "  let deja_vu = Array.make n false in\n",
    "\n",
    "  let rec visite_sommet s=\n",
    "    deja_vu.(s) <- true;\n",
    "    s::(visite_voisins g.(s))\n",
    "  and visite_voisins = function\n",
    "    | [] -> []\n",
    "    | t::autre_Voisin when not(deja_vu.(t)) -> (visite_sommet t)@(visite_voisins autre_Voisin)\n",
    "    | t::autre_Voisin -> visite_voisins autre_Voisin\n",
    "\n",
    "  in visite_sommet sd\n",
    ";;"
   ]
  },
  {
   "cell_type": "markdown",
   "metadata": {},
   "source": [
    "Avantage de cette version : \n",
    "- plus court\n",
    "- On peut facilement lorsqu'on traite un sommet d'où on vient : mettre l'argument (s) en plus dans la fonction ```visite_voisins``` (cf exercice 11 et 12)"
   ]
  },
  {
   "cell_type": "markdown",
   "metadata": {},
   "source": [
    "# Graphe pondérés\n",
    "\n",
    "## Notation\n",
    "On suppose maintenant qu'à chaque arêtes $G$ est associé un flottant. Dans les applications, ce nombre sera la longueur de l'arête. On note $\\forall (s,t) \\in A, l_{s,t}$ la longueur de $st$\n",
    "Soit $n \\in \\mathbb N$ et $(s_0,...,s_n) \\in S^{n+1}$ tq $\\gamma=(s_0,...,s_n)$ est un chemin.  \n",
    "Dans cette partie, on appelle longueur de $\\gamma$ le nombre $\\sum_{i=1}^{n}l_{s_{i-1}s_i}$  \n",
    "$\\forall s,t \\in S^2$ on note $d(s,t)=min\\{|\\gamma|,\\gamma:s->t\\}$ s'il existe, sinon $+\\infty$  \n",
    "\n",
    "On ne suppose pas que $\\forall (s,t) \\in A, l_{s,t}=l_{t,s}$ (même si $G$ est non orienté) donc $d$ ne sera à priori pas symétrique. En général, on prendra $\\forall (s,t) \\in A l_{s,t}>0$  \n",
    "\n",
    "**Cas extrême :** s'il existe $\\gamma$ un cycle de longueur négative alors $\\forall s \\in \\gamma, d(s,s)$ n'est pas définie.  \n",
    "\n",
    "## Implémentation\n",
    "\n",
    "- Matrice d'adjacence : $\\forall i,j \\in S$, prendre $M_{ij}=l_{i,j}$ si $(i,j) \\in A$, sinon $+\\infty$ ```infinity``` en Ocaml\n",
    "- Liste d'adjacence : $\\forall i \\in S$ ```g.(i)``` contient la liste des couples (j voisin de i,$l_{i,j}$)"
   ]
  },
  {
   "cell_type": "code",
   "execution_count": 12,
   "metadata": {},
   "outputs": [
    {
     "data": {
      "text/plain": [
       "type graphe_pondere = (int * float) list array\n"
      ]
     },
     "execution_count": 12,
     "metadata": {},
     "output_type": "execute_result"
    }
   ],
   "source": [
    "type graphe_pondere = (int*float) list array;;"
   ]
  },
  {
   "cell_type": "code",
   "execution_count": 13,
   "metadata": {},
   "outputs": [
    {
     "data": {
      "text/plain": [
       "val exemple_matrice : float array array =\n",
       "  [|[|0.; 1.; infinity; 4.; infinity|]; [|1.; 0.; 1.; infinity; infinity|];\n",
       "    [|infinity; 1.; 0.; 1.; 3.|]; [|4.; infinity; 1.; 0.; 1.|];\n",
       "    [|infinity; infinity; 2.; 1.; 0.|]|]\n"
      ]
     },
     "execution_count": 13,
     "metadata": {},
     "output_type": "execute_result"
    },
    {
     "data": {
      "text/plain": [
       "val exemple_liste : (int * float) list array =\n",
       "  [|[(1, 1.); (3, 4.)]; [(0, 1.); (2, 1.)]; [(1, 1.); (3, 1.); (4, 3.)];\n",
       "    [(0, 4.); (2, 1.); (4, 1.)]; [(3, 1.); (2, 2.)]|]\n"
      ]
     },
     "execution_count": 13,
     "metadata": {},
     "output_type": "execute_result"
    }
   ],
   "source": [
    "let exemple_matrice = [|[|0.;1.;infinity;4.;infinity|];\n",
    "                        [|1.;0.;1.;infinity;infinity|];\n",
    "                        [|infinity;1.;0.;1.;3.|];\n",
    "                        [|4.;infinity;1.;0.;1.|];\n",
    "                        [|infinity;infinity;2.;1.;0.|]        \n",
    "                      |];;\n",
    "                      \n",
    "let exemple_liste = [|\n",
    "                        [(1,1.);(3,4.)];\n",
    "                        [(0,1.);(2,1.)];\n",
    "                        [(1,1.);(3,1.);(4,3.)];\n",
    "                        [(0,4.);(2,1.);(4,1.)];\n",
    "                        [(3,1.);(2,2.)]\n",
    "                    |];;"
   ]
  },
  {
   "cell_type": "markdown",
   "metadata": {},
   "source": [
    "## Floyd-Warshall\n",
    "\n",
    "**But :** Calculer $d(s,t) \\forall (s,t) \\in S^2$. Ce qui fait $|S|^2$ flottants à calculer.  \n",
    "On suppose que $G$ n'a pas de cycle de longueur nulle ou negative.  \n",
    "\n",
    "**Lemme :**  \n",
    "- Soit $\\gamma_1$ et $\\gamma_2$ deux chemins tq la fin de $\\gamma_1$ est le début de $\\gamma_2$ alors $\\gamma_1 @ \\gamma_2=|\\gamma_1|+|\\gamma_2|$\n",
    "- ...\n",
    "Soit $\\gamma_1,\\gamma_2$ tq $\\gamma=\\gamma_1 @ \\gamma_2$ et $\\gamma_1 : s -> u$, $\\gamma_2: u -> t$ alors $\\gamma_1$ est un plus court chemin de $s$ à $u$. De meme entre $u$ et $t$.\n",
    "\n",
    "**Preuve :**\n",
    "- Evident\n",
    "- \n",
    "- Idem\n",
    "\n",
    "**Principe de l'algorithme :**\n",
    "$\\forall (i,j,k) \\in ⟦0,n⟦^2*⟦0,n⟧$ on pose $d_{ij}^k ) min \\{|\\gamma|, \\gamma: i->j$ qui ne passe que par des sommets dans $⟦0,k⟦\\}$  \n",
    "\n",
    "Ainsi, $\\forall (i,j) \\in ⟦0,n⟦^2$, $d_{i,j}^n=d(i,j)$ et $d_{i,j}^0=l_{i,j}, 0 si i=j, +\\infty (i,j) \\not\\in A$  \n",
    "\n",
    "Cherchons une relation de recurrence pour calculer les $(d_{i,j}^{k+1})_{i,j}$ à partir des $(d_{i,j}^{k})_{i,j}$  \n",
    "\n",
    "Soit $k \\in ⟦0,n⟦$, on suppose connue $(d_{i,j}^{k})_{i,j \\in ⟦0,n⟦}$  \n",
    "Soit $(i,j) \\in ⟦0,n⟦^2$ Calculon $d_{i,j}^{k+1}$.\n",
    "\n",
    "Soit $\\gamma$ un plus court chemin de $i$ à $j$ avec étapes dans $⟦0,n⟦$  \n",
    "On distingue deux cas :\n",
    "\n",
    "1 - Si $\\gamma$ passe par $k$  \n",
    "Mq $|\\gamma|=d_{i,k}^{k}+d_{k,j}^{k}$\n",
    "Comme $\\gamma$ est un plus court chemin, il n'a pas de cycle (les cycles sont de longueur >= 0) Donc il ne passe qu'une seul fois par $k$.\n",
    "\n",
    "Soit $\\gamma_1,\\gamma_2 tq \\gamma=\\gamma_1@\\gamma_2$ i->k->j  \n",
    "- $\\gamma_1$ et $\\gamma_2$ sont à étapes dans $⟦0,k⟦$  \n",
    "- $\\gamma_1$ est un plus court chemin de $i$ à $k$ à étape dans $⟦0,k⟦$. Donc $|\\gamma_1|=d_{i,k}^{k}$\n",
    "- De même avec $|\\gamma_1|=d_{i,k}^{k}$\n",
    "\n",
    "D'où $|\\gamma|=d_{i,k}^{k}+d_{k,j}^{k}$\n",
    "\n",
    "2 - Si $\\gamma$ ne passe pas par k :  \n",
    "Alors $|\\gamma|=d_{i,k}^{k}$\n",
    "\n",
    "Pour conclure : $d_{i,j}^{k+1}$ vaut $d_{i,k}^{k}+d_{k,j}^{k}$ OU $d_{i,j}^{k})$\n",
    "\n",
    "Montrons alors que $d_{i,j}^{k}=min(d_{i,k}^{k}+d_{k,j}^{k},d_{i,j}^{k}$  \n",
    "\n",
    "Cas 1: si $d_{i,j}^{k} \\leq d_{i,k}^{k}+d_{k,j}^{k}$\n",
    "Soit $\\gamma,\\gamma_1,\\gamma_2$ des chemins correspondant  \n",
    "\n",
    "$\\gamma$ est un plus court chemin de $i$ à $j$ avec étapes dans $⟦0,k⟦$ et il ne passe pas par $k$. On est alors dans le cas 1 précedent.\n",
    "\n",
    "Cas 2 : si $d_{i,j}^{k} \\geq d_{i,k}^{k}+d_{k,j}^{k}$  \n",
    "Alors $\\gamma$ ne peut pas être un plus court chemin de $i$ à $j$ avec étapes dans $⟦0,k+1⟦$ car $\\gamma_1@\\gamma_2$ est strictement plus court. Donc on n'est pas dans le cas 1 prec. donc on est dans le cas 2 et $d_{i,j}^{k}=d_{i,k}^{k}+d_{k,j}^{k}$\n",
    "\n",
    "Bilan : $\\forall (i,j) \\in ⟦0,n⟦^2, d_{i,j}^{k}=min(d_{i,k}^{k}+d_{k,j}^{k},d_{i,j}^{k})$  \n",
    "\n",
    "Il suffit d'utiliser un tableau de format $n*n$ et une boucle for sur k.  \n",
    "\n",
    "L'invariant de boucle sera \"En entrée de l'itération k, $\\forall (i,j) \\in ⟦0,n⟦^2, dist.(i).(j) = d_{i,j}^{k}$\"  \n",
    "\n",
    "On peut prouver qu'on a aussi $\\forall i,jk \\in ⟦0,n⟦ d_{i,j}^{k}=min(d_{i,k}^{k+1}+d_{k,j}^{k},d_{i,j}^{k})=d_{i,j}^{k}=min(d_{i,k}^{k}+d_{k,j}^{k},d_{i,j}^{k+1})$  \n",
    "\n",
    "En effet, $d_{i,k}^{k+1}=d_{i,k}^{k}$ et $d_{k,j}^{k+1}=d_{k,j}^{k}$. On peut alors s'épargner la copie de ```dist```"
   ]
  },
  {
   "cell_type": "code",
   "execution_count": 2,
   "metadata": {},
   "outputs": [
    {
     "data": {
      "text/plain": [
       "val copie_mat : 'a array array -> 'a array array = <fun>\n"
      ]
     },
     "execution_count": 2,
     "metadata": {},
     "output_type": "execute_result"
    }
   ],
   "source": [
    "let copie_mat m=\n",
    "  let n,p = Array.length m,Array.length m.(0) in\n",
    "  let res = Array.make_matrix n p m.(0).(0) in\n",
    "\n",
    "  for i=0 to n-1 do\n",
    "    for j=0 to p-1 do\n",
    "      res.(i).(j)<-m.(i).(j);\n",
    "    done;\n",
    "  done;\n",
    "  res\n",
    ";;"
   ]
  },
  {
   "cell_type": "code",
   "execution_count": 3,
   "metadata": {},
   "outputs": [
    {
     "data": {
      "text/plain": [
       "val floyd_warshall : float array array -> float array array = <fun>\n"
      ]
     },
     "execution_count": 3,
     "metadata": {},
     "output_type": "execute_result"
    }
   ],
   "source": [
    "let floyd_warshall m=\n",
    "  (* Entrée : m matrice d'adjacence d'un graphe pondéré G *)\n",
    "  let n = Array.length m in\n",
    "  let dist = copie_mat m in\n",
    "  for k=0 to n-1 do\n",
    "    (* Ici dist contient les d_{i,j}^{k} *)\n",
    "    let sauv = copie_mat dist in\n",
    "    for i=0 to n-1 do\n",
    "      for j=0 to n-1 do\n",
    "        dist.(i).(j) <- min (sauv.(i).(j)) (sauv.(i).(k)+.sauv.(k).(j));\n",
    "      done;\n",
    "    done;\n",
    "    (* Maintenant, dist contient les d_{i,j}^{k+1} *)\n",
    "  done;\n",
    "  dist\n",
    ";;"
   ]
  },
  {
   "cell_type": "code",
   "execution_count": 8,
   "metadata": {},
   "outputs": [
    {
     "data": {
      "text/plain": [
       "val floyd_warshall_chemin : float array array -> int -> int -> int list =\n",
       "  <fun>\n"
      ]
     },
     "execution_count": 8,
     "metadata": {},
     "output_type": "execute_result"
    }
   ],
   "source": [
    "let floyd_warshall_chemin m sd sa=\n",
    "  let n = Array.length m in\n",
    "  let chemin = Array.make_matrix n n [] in\n",
    "  let dist = copie_mat m in\n",
    "  for i=0 to n-1 do\n",
    "    for j=0 to n-1 do\n",
    "      if m.(i).(j) <> infinity && i<>j then\n",
    "        chemin.(i).(j) <- [i];\n",
    "    done;\n",
    "  done;\n",
    "    for k=0 to n-1 do\n",
    "        let sauv = copie_mat dist in\n",
    "        for i=0 to n-1 do\n",
    "            for j=0 to n-1 do\n",
    "                if (sauv.(i).(k) +. sauv.(k).(j)) < dist.(i).(j) then\n",
    "                    (\n",
    "                    dist.(i).(j) <- sauv.(i).(k) +. sauv.(k).(j);\n",
    "                    chemin.(i).(j) <- chemin.(i).(k)@chemin.(k).(j);\n",
    "          )\n",
    "            done;\n",
    "        done;\n",
    "    done;\n",
    "  chemin.(sd).(sa)@[sa]\n",
    ";;"
   ]
  },
  {
   "cell_type": "markdown",
   "metadata": {},
   "source": [
    "Complexité de l'algo : $O(|S|^3)$  Sauf pour les chemins qui est plus lent à cause des ```@```"
   ]
  },
  {
   "cell_type": "markdown",
   "metadata": {},
   "source": [
    "## Dijkstra\n",
    "\n",
    "**But :** Calculer le plus court chemin entre deux points.  \n",
    "Fixons $(s_d,s_a) \\in S^2$.\n",
    "\n",
    "Même principe que pour un plus court chemin dans un graphe non pondéré :on effectue un parcours en largeur en partant de $s_d$. Gardons le vocabulaire des sommets noirs, blancs et gris. On maintient un tableau ```dist``` tq $\\forall t \\in S$ ```dist.(t)```contient à chauque instant la longueur d'un plus court chemin \"connu\" de $s_d$ à $t$. S'il n'y a pas de telle chemin, cad si t est blanc. Dans ce cas on met ```dist.(t)```$=+\\infty$.  \n",
    "\n",
    "**Invariants de boucle précis :**  \n",
    "- (IG), (IN), (CC) restent valide (cf debut chapitre)\n",
    "- (DN) : $\\forall s \\in N$ ```dist.(s)```$=d(s_d,s)$ : On connait la distance à $s_d$ pour les sommets noirs\n",
    "- (DG) : ```dist.(s)``` contient la longueur d'un pcc de $s_d$ à $t$ avec étapes dans $N$\n",
    "- (DB) : $\\forall s \\in B$ ```dist.(t)```$=+\\infty$.  \n",
    "\n",
    "### Lemme fondamental\n",
    "\n",
    "**Lemme :**  \n",
    "Soit $s$ un sommet gris pour lequel ```dist.(s)``` est minimal. On suppose les invariants de boucle vérifiés.  \n",
    "Alors ```dist.(s)```=$d(s_d,s)$ ainsi on peut peindre $s$ en noir.\n",
    "\n",
    "**Demonstration :**  \n",
    "Soit $\\gamma$ un pcc de $s_d$ à $s$ avec étapes noires. Donc par (D N) $|\\gamma|=$```dist.(s)```  \n",
    "\n",
    "Mq $|\\gamma|=d(s_d, s)$ cad que $\\gamma$ est un pcc de $s_d$ à $s$ .\n",
    "Supposons $\\eta$ un chemin de $s_d$ à $s$ tq $|\\eta|<|\\gamma|$. Donc par (D N), $\\eta$ ne passe que par des sommets noirs. Soit $t$ le premier sommet non noir traversé par $\\eta$. $t$ est gris par (I N).  \n",
    "Notons $\\eta_1$ la partie de $\\eta$ de $s_d$ à $t$. $\\eta_1$ a ses étapes dans $N$.  \n",
    "Donc ```dist.(t)```$\\leq |\\eta| < |\\gamma| =$```dist.(t)``` D'où la contradiction\n",
    "\n",
    "Ainsi à chaque étape on va chercher $s \\in G$ tq ```dist.(t)``` est minimal et on va peindre $s$ en noir\n",
    "\n",
    "Il faudra alors pour tout voisins de s\n",
    "- Le peindre en gris s'il était blanc pour (I N)\n",
    "- mettre à jour ```dist.(t)``` pour (D G)\n",
    "\n",
    "Comment faire ?\n",
    "\n",
    "Auparavant, ```dist.(t)``` contenait la longueur d'un pcc de $s$ vers $t$ à étapes dans $N$. On utilise le même raisonnement que pour FW : soit $\\gamma$ un pcc de $s_d$ à $t$ avec étapes dans $N\\union\\{s\\}$\n",
    "\n",
    "- si $\\gamma$ ne passe pas par $s$ c'est un pcc de $s_d$ à $t$ à étapes dans $N$. Donc ```dist.(t)```$=|\\gamma|$, on ne fait rien\n",
    "- si $\\gamma$ passe par $s$. Soient $\\gamma_1$, $\\gamma_2$ tq $\\gamma=\\gamma_1 @ \\gamma_2$. $\\gamma_1 : s_d-> s$ et $\\gamma_2 : s-> t$. $\\gamma_1$ est un pcc de $s_d$ à $s$ à étapes dans $N$ donc $|\\gamma_1$=```dist.(s)```\n",
    "- si $\\gamma_2$ passe par un sommet $u$. Soit $\\eta$ un pcc noir de $s_d$ à $u$. On peut remplacer le début de $\\gamma$ par $\\eta$ : $\\exists$ un pcc noir de $s_d$ à $t$ qui ne passe pas par $s$. Donc ```dist.(t)``` contient déja la bonne valeur (comme dans le cas précedent).\n",
    "- $\\gamma_2$ est juste une arete. Donc $|\\gamma_2|$ est connue c'est $l_{s,t}$ et dans ```dist.(t)``` il faut mettre $|\\gamma_1|+|\\gamma_2|$ cad ```dist.(s)```$+ l_{s,t}$  \n",
    "\n",
    "Ainsi dans ```dist.(t)``` il faut mettre ```dist.(s)```$+ l_{s,t}$. Pour resumer tous les cas, il faut effectuer :  \n",
    "```dist.(t) <- min (dist.(t), dist.(s)+```$l_{s,t}$```)```  \n",
    "\n",
    "En effet : notons $d$ la valeur à mettre dans ```dist.(t)```\n",
    "- On a que $d=$```dist.(t)``` ou $d= l_{s,t}+$```dist.(t)``` donc $d \\geq$ ```min (dist.(t), dist.(s)+```$l_{s,t}$```)```\n",
    "- De même on a $d \\leq$ ```min (dist.(t), dist.(s)+```$l_{s,t}$```)```\n",
    "\n",
    "### Algorithme simplifié\n",
    "\n",
    "Entrées : \n",
    "- le graphe G=(S,A)\n",
    "- $s_a,s_d \\in S$\n",
    "\n",
    "Sortie :\n",
    "- $d(s_a,s_d)$\n",
    "\n",
    "Créer un tableau dist de longueru $|S|$ contenant initialement des $\\infty$  \n",
    "Créer une structure pour les sommets gris contenant $s_d$.  \n",
    "dist.(sd)<-0  \n",
    "$s$ blanc -> dist.(s)=$\\infty$  \n",
    "$s$ est noir s'il n'est pas gris et s'il n'est pas blanc  \n",
    "\n",
    "Tant que $s_a$ n'est pas noir et gris pas vide:\n",
    "\n",
    "    extraire de gris le sommet pour lequelle dist est minimal  \n",
    "    pour tout t voisin de s:  \n",
    "        si t est blanc:  \n",
    "            on le met en gris  \n",
    "            dist.(t)<-dist.(s)+l_st  \n",
    "        sinon si t est gris:  \n",
    "            dist.(t) <- min(dist.(t), dist.(s)+l_st  \n",
    "        sinon  \n",
    "            ()  \n",
    "Renvoyer dist.(s_a)\n",
    "          \n",
    "**Implémentation :**  \n",
    "le plus adapté pour les gris est un tas \n",
    "\n",
    "### Avec des tas mutables\n",
    "\n",
    "*Attention à deux points :*\n",
    "- pour choisir la place dans le tas, il faut utiliser dist.(s) et non $s$ lui même donc ```fun s t -> dist.(s) <= dist.(t)```\n",
    "- mettre dans le tas des couples ```(dist.(s),s)```\n",
    "\n",
    "Le problème est qu'a chaque fois que l'on change dist.(s) il faudra le changer dans le tas puis remonter à sa place l'élément. Pour retrouver $s$ il faut aussi enregistrer sa position donc faire par exemple un tableau position\n",
    "\n",
    "### Complexité\n",
    "\n",
    "Le tas contient à chaque instant <= |S| éléments. Donc les opérations sont en $O(log|S|)$,,\n",
    "La complexité est la même que le parcours en largeur car même sutructure : mais enfile et défile sont en O(1) et entasse et detasse en O(log|S|). On a alors une complexité en $O((|A|+|S|)log(S))$  \n",
    "\n",
    "### Avec des tas persistants\n",
    "\n",
    "On y mettra des couples de la forme ```(dist.(s),s)```. Si on met a jour dist.(s), on va entasser ```(nouvelle valeur de dist.(s),s)```. Le sommet sera en double avec sa version plus récente au dessus.  \n",
    "Lorsqu'on aura traité la premiere version, ne pas retraiter la deuxième.  \n",
    "\n",
    "-> utiliser un tableau dejaVu pour les noirs  \n",
    "\n",
    "Problèmes : le tas peut contenir plus d'élément, donc les operations de base seront plus lente... \n",
    "L'opération \"entasser un élément\" est effectué au plus $O(|A|)$\n",
    "Donc les operations sont en $O(log|S|)$. Mais $|A|\\leq |S|^2$\n",
    "\n",
    "Donc $log|A| \\leq 2 log(|S|)$\n",
    "$O(log|A|) = O (log(|S|))$"
   ]
  },
  {
   "cell_type": "code",
   "execution_count": null,
   "metadata": {},
   "outputs": [],
   "source": []
  }
 ],
 "metadata": {
  "kernelspec": {
   "display_name": "OCaml 4.07.0",
   "language": "OCaml",
   "name": "ocaml-jupyter"
  },
  "language_info": {
   "codemirror_mode": "text/x-ocaml",
   "file_extension": ".ml",
   "mimetype": "text/x-ocaml",
   "name": "OCaml",
   "nbconverter_exporter": null,
   "pygments_lexer": "OCaml",
   "version": "4.07.0"
  }
 },
 "nbformat": 4,
 "nbformat_minor": 2
}
