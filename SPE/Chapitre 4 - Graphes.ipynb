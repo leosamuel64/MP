{
 "cells": [
  {
   "cell_type": "markdown",
   "metadata": {},
   "source": [
    "# Vocabulaire\n",
    "\n",
    "Un graphe est formé de :\n",
    "- un ensemble, appelé ensemble des sommets (Noté $S$ ou $V$)\n",
    "- un sous-ensemble de $S^2$, appelé ensemble des arrêtes (Noté $E$)\n",
    "\n",
    "**Exemple :** $S={1,2,3,4}$ et $A={(1,2),(1,3),(2,1)}$ Alors $(S,A)$ est un graphe.  \n",
    "Représentation graphique : \n",
    "\n",
    "Soit $k=(S,A)$ un graphe.  \n",
    "- Un chemin est une suite $(s_0,...,s_n) \\in S^{n+1}$ tq $\\forall i \\in [[0,n[[, (s_i,s_{i+1}\\in A$  \n",
    "- Deux sommet $s$,$t$ $\\in S^n$ sont dits reliés lorsqu'il existe un chemin de $s$ à $t$.\n",
    "- La longueur d'un chemin est le nombre d'arretes empruntées\n",
    "- $\\forall (s,t)) \\in S^2)$ deux sommets reliés. On note $d(s,t)$ la longueur du plus court chemin de $s$ à $t$.\n",
    "- On dit que $G$ est non orienté lorsque $\\forall (s,t) \\in S^2, (s,t) \\in A \\equiv (t,s) \\in A$.  \n",
    "- Supposons G non-orienté\n",
    "    - on dit que G est connexe lorsque tous ses sommets sont reliés\n",
    "    - $\\forall ss \\in S$, on appelle composant connexe de $s$ l'ensemble des sommets accessible depuis $s$\n",
    "\n",
    "**Propriété :** Supp G connexe et non orienté. La distance vérifie :\n",
    "- $\\forall (s,t) \\in S^2, d(s,t)=d(t,s)$\n",
    "- $\\forall (s,t,u) \\in S^3, d(s,t) \\leq d(s,u) + d(u,t)$ (Inégalité triangulaire)\n",
    "- $\\forall (s,t) \\in S^2, d(s,t)=0 \\equiv s=t$\n",
    "\n",
    "Remarque : Si $G$ n'est pas connexe, on pose $\\forall (s,t) \\in S^2$ non connectés : $d(s,t)=+\\infty$  \n",
    "\n",
    "- si $G$ est orienté, les deux derniers points restent valides\n",
    "\n",
    "**Demonstration :** Soit $(s,t) \\in S^2$, notons $a=d(s,t)$ et $b=d(t,s)$.  \n",
    "Montrons que $a=b$  \n",
    "Soit $\\gamma$ un plus court chemin de $s$ à $t$. Il est de longueur a. Soit $s_o,...,s_a$ les sommets traversé par $\\gamma$.  \n",
    "\n",
    "$(s_a,s_{a-1},...,s_o)$ est aussi un chemin. Notons le $\\gamma^T$. Sa longueur est $a$.  \n",
    "Donc il existe un chemin de longueur $a$ de $t$ vers $s$. Donc $d(t,s)\\leq l$, cad $b\\leq a$.  \n",
    "Puis avec le même raisonement, on a $a\\leq b$  \n",
    "\n",
    "Soit $(s,t,u) \\in S^3$. Soit $\\gamma_1$ un chemin de $s$ à $t$ et $\\gamma_2$ un chemin de $t$ à $s$.  \n",
    "\n",
    "Notons $@$ la concatenation des chemin et $|.|$ la longueur.  \n",
    "$\\gamma_1 @ \\gamma_2$ est un chemin de s à u de longueur $|\\gamma_1|+|\\gamma_2|$  \n",
    "Donc il existe un chemin de $s$ à $u$ de longueur $|\\gamma_1|+|\\gamma_2|$.  \n",
    "Donc $d(s,u) \\leq |\\gamma_1|+|\\gamma_2| = d(s,t)+d(t,u)$\n",
    "\n",
    "Soit $(s,t) \\in S^2$ :  \n",
    "Si $s=t$, soit $\\gamma=(s)$. $\\gamma$ relie $s$ à $t$ et sa longueur est $0$.  \n",
    "\n",
    "Si $d(s,t)=0$. Soit $\\gamma$ un plus court chemin de $s$ à $t$. $|\\gamma|=0$. Donc le sommet de départ est le sommet d'arrivé donc $s=t$ "
   ]
  },
  {
   "cell_type": "markdown",
   "metadata": {},
   "source": [
    "# Implementation\n",
    "\n",
    "Soit $G$ un graphe et $(S,E)$ ses composants   \n",
    "Soit $n=|S|$.  \n",
    "On supp dans la suite que $S=[[0,n[[$  \n",
    "On utilise principalement deux méthodes pour enregistrer G.\n",
    "\n",
    "- Matrice d'adjacence  \n",
    "C'est la matrice $M\\in \\mathbb M_n(\\mathbb N)$ tq $\\forall (i,j) \\in [[0,n[[^2, M_{i,j}=(1 \\text{ si } (i,j) \\in A) (0 \\text{ sinon })$\n",
    "\n",
    "- Tableau de liste d'adjacences  \n",
    "C'est le tableau g de longueur n tq $\\forall i \\in [[0,n[[$.\n",
    "g.(i) contient la liste des voisins de i"
   ]
  },
  {
   "cell_type": "code",
   "execution_count": 1,
   "metadata": {},
   "outputs": [
    {
     "data": {
      "text/plain": [
       "type graphe1 = int array array\n"
      ]
     },
     "execution_count": 1,
     "metadata": {},
     "output_type": "execute_result"
    },
    {
     "data": {
      "text/plain": [
       "type graphe2 = int list array\n"
      ]
     },
     "execution_count": 1,
     "metadata": {},
     "output_type": "execute_result"
    }
   ],
   "source": [
    "type graphe1 = int array array;;\n",
    "type graphe2 = int list array;; "
   ]
  },
  {
   "cell_type": "markdown",
   "metadata": {},
   "source": [
    "# Parcours d'un graphe\n",
    "\n",
    "Souvent, on a besoin de parcourir les sommets de proche en proche à partir d'un sommet de départ.\n",
    "\n",
    "## Vocabulaire et invariants de boucle\n",
    "\n",
    "**Vocabulaire :** \n",
    "- Un sommet est dit *blanc* s'il n'est pas découvert\n",
    "- Un sommet est dit *noir* s'il a été traité\n",
    "- Un sommet est dit *gris* s'il est découvert mais pas traité (Sommet alors à traité)\n",
    "\n",
    "**Invariants de boucle :**\n",
    "- (V N) : Les voisins des sommet noir sont noirs ou gris\n",
    "- (V G) : Tout sommet gris a au moins un voisin noir\n",
    "\n",
    "Les seuls changement de couleurs autorisés sont de *blanc vers gris* et de *gris vers noir*  \n",
    "\n",
    "NB : Pour que le programme termine, il faudra éviter de revenir à un noir.  \n",
    "\n",
    "Consequences des invariants de boucle :\n",
    "\n",
    "**Lemme 1 :**  \n",
    "On suppose (V N) et (V G) vérifiés. On suppose que l'algo a aussi satisfait à (C C). On suppose qu'il n'y a plus de sommet gris.  \n",
    "Alors les sommets blancs sont déconnectés des noirs cad : $\\not\\exists$ des chemins d'un noir vers un blanc\n",
    "\n",
    "**Preuve :**  \n",
    "Supposons qu'il existe un chemin $\\gamma$ tq en notant $n=|\\gamma|$ et $s_0,...s_n$ ses sommets, $s_0$ est noir et $s_n$ est blanc. Soit $i=\\max\\{k\\in [[0,n]],s_k \\text{noir}\\}$. On a $i \\leq n$ car $s_n$ est blanc. Donc $s_{i+1}$ existe, et est différent de noir. Donc $s_{i+1}$ est blanc car pas de gris par hypothese. Donc (V N) n'est pas vérifiée en $s_{i}$ et $s_{i+1}$  \n",
    "\n",
    "**Lemme 2 :**  \n",
    "On suppose (V N), (V G), (C C). Notons $D$ l'ensemble des gris ou noir au debut de l'algorithme. Alors tout sommet noir ou gris est relié à $D$  $(*)$  \n",
    "\n",
    "**Preuve :**  \n",
    "Notons $(*)$ la propriété et verifions que c'est un invariant de boucle.  \n",
    "*Initialisation :* Soit $s$ un sommet noir ou gris au debut de l'algo alors $s \\in D$. Prendre $\\gamma = (s)$ de longueur 0 il relie s à l.  \n",
    "*Heredité :* Supposons $(*)$ vraie à un instant de l'algo. Effectuant une étape qui respecte (V N), (V G), et (C C).  \n",
    "S'il y a un changement de couleurs de gris vers noir, l'ensemble des sommets noirs ou gris n'est pas changé donc $(*)$ reste vrai.  \n",
    "S'il y a un changement blanc vers gris, Soit $s$ le sommet concerné. Par (V G), $s$ a un voisin noir,disons $t$. Par hypothese de récurrence, $t$ est relié à $l$. Alors $s$ est relié à $l$\n",
    "\n",
    "**Proposition :**  \n",
    "On suppose qu'il n'y a plus de (V N), (V G), (C C). On suppose qu'au début de l'algo, $N=\\emptyset$ et un seul sommet est gris, notons le $s_d$. On suppose que à la fin, $G=\\emptyset$  \n",
    "Alors à la fin de la boucle, $N=$ (la composante connexe de $s_d$)  \n",
    "\n",
    "Rappel : La composante connexe de  $s_d$ est l'ensemble des sommets reliés a $s_d$  \n",
    "\n",
    "Remarque : C'est aussi la plus petite composante connexe de $G$ contenant $s_d$\n",
    "\n",
    "**Preuve :**  \n",
    "Montrons que $N \\subset CC$ de $s_d$. Soit $s \\in N$, par le lemme 2, $s$ est rellié à $s_d$  \n",
    "Montrons que N $\\not\\subset$ CC de $s_d$. Soit $s$ relié a $s_d$, par le lemme 1, $s \\not\\in B$ et $G=\\emptyset$ alors $s \\in N$  \n",
    "\n",
    "Ainsi un algo vérifiant nos 3 props permet de trouver la composante connexe de $s_d$. Ce sera notre premier exemple. Une simple modification permettra de trouver un chemin de $s_d$ vers un autre sommet $s_a$. Puis un plus court chemin.  \n",
    "\n",
    "## Squelette de programme impératif\n",
    "\n",
    "### Algorithme\n",
    "\n",
    "Entrée :\n",
    "- Un graphe $(S,A)$\n",
    "- Un sommet $s_d \\in S$\n",
    "\n",
    "Créer 3 ensembles $N$,$G$ et $B$  \n",
    "$N$ <- $\\emptyset$\n",
    "$B$ <- S  \n",
    "$G$ <- $\\emptyset$  \n",
    "\n",
    "Peindre $s_d$ en gris  \n",
    "\n",
    "Tant que $G \\not= \\emptyset$:  \n",
    "\n",
    "----extraire un sommet $s$ de $G$  \n",
    "----Faire quelque chose  \n",
    "----Peindre $s$ en noir  \n",
    "    \n",
    "----$\\forall t$ voisin de $s$:  \n",
    "--------Si $t \\in B$, le peindre en gris    \n",
    "Renvoyer le resultat\n",
    "\n",
    "### Les invariants de boucle\n",
    "\n",
    "- (V N) est verifié\n",
    "- (C C) est vérifié\n",
    "- (V G) est vérifié\n",
    "\n",
    "### En pratique\n",
    "(cf exercice 1 pour programmer la boucle interne)  \n",
    "\n",
    "Comment enregistrer $N$,$G$,$B$ ?  \n",
    "\n",
    "En général, \n",
    "- $B$ n'est pas enregistré. Ce sont les sommets ni noirs, ni gris\n",
    "- $N$ : Un tableau \"deja_vu\" tq $\\forall i \\in S$, deja_vu.(i) <=> $i \\in N$\n",
    "- $G$ : ça dépend de l'ordre dans lequel on veut traiter les sommets\n",
    "\n",
    "### En autorisant les doublons dans G\n",
    "\n",
    "Il est souvent plus pratique et parfois obligatoire d'utiliser à la place de $G$ une structure qui autorise les doublons.  \n",
    "Exemple : $(1,4,0,2,4)$ Après avoir traité $4$, celui-ci devient noir, et la file contient donc des noirs.  \n",
    "\n",
    "Ainsi :\n",
    "- La structure utilisée ne s'appellera plus $G$ mais aVisiter\n",
    "- Quand on sort un sommet de aVisiter, il faut vérifier qu'il est gris\n",
    "\n",
    "Alors l'algo devient  \n",
    "\n",
    "Créer 3 ensembles $N$,$G$ et $B$  \n",
    "$N$ <- un tab de |S| bool initialement faux  \n",
    "aVisiter <- Une structure contenant initialement $s_d$    \n",
    "Peindre $s_d$ en gris  \n",
    "Tant que $G \\not= \\emptyset$:  \n",
    "----extraire un sommet $s$ de Avisiter  \n",
    "----Si Non N.(s):\n",
    "--------Faire quelque chose  \n",
    "--------Peindre $s$ en noir  \n",
    "--------$\\forall t$ voisin de $s$:  \n",
    "------------Si NON N.(t):  \n",
    "----------------Mettre t dans aVisiter  \n",
    "Renvoyer le resultat  \n",
    "\n",
    "**Exemple :** Calcul de composante connexe. Avec pour aVisiter une file d'attente  "
   ]
  },
  {
   "cell_type": "code",
   "execution_count": 8,
   "metadata": {},
   "outputs": [
    {
     "data": {
      "text/plain": [
       "val composante_connexe : int list array -> int -> int list = <fun>\n"
      ]
     },
     "execution_count": 8,
     "metadata": {},
     "output_type": "execute_result"
    }
   ],
   "source": [
    "let composante_connexe g sd=\n",
    "  let n= Array.length g in\n",
    "  let deja_vu= Array.make n false in\n",
    "  let a_Visiter= Queue.create () in\n",
    "  Queue.add sd a_Visiter; \n",
    "  let rec visite_voisins = function\n",
    "    | [] -> ()\n",
    "    | t::q -> Queue.add t a_Visiter;\n",
    "              visite_voisins q\n",
    "  in\n",
    "  while  not (Queue.is_empty a_Visiter) do\n",
    "    let s= Queue.take a_Visiter in\n",
    "    if not (deja_vu.(s)) then\n",
    "    (\n",
    "      visite_voisins g.(s);\n",
    "      deja_vu.(s) <- true;\n",
    "    )\n",
    "  done;\n",
    "  (* Maintenant, la composante connexe de sd correspond aux sommetsde deja_vu *)\n",
    "  let res = ref [] in\n",
    "  for i=0 to n-1 do\n",
    "    if deja_vu.(i) then \n",
    "      res:= i::(!res)\n",
    "  done;\n",
    "  !res\n",
    "  ;;"
   ]
  },
  {
   "cell_type": "code",
   "execution_count": 3,
   "metadata": {},
   "outputs": [
    {
     "data": {
      "text/plain": [
       "val exemple1 : int list array = [|[1; 2]; []; [1; 3]; [1]; [5]; []|]\n"
      ]
     },
     "execution_count": 3,
     "metadata": {},
     "output_type": "execute_result"
    }
   ],
   "source": [
    "let exemple1 = \n",
    "[|  [1;2];\n",
    "    [];\n",
    "    [1;3];\n",
    "    [1];\n",
    "    [5];\n",
    "    []\n",
    "|]"
   ]
  },
  {
   "cell_type": "code",
   "execution_count": 4,
   "metadata": {},
   "outputs": [
    {
     "data": {
      "text/plain": [
       "- : int list = [3; 2; 1; 0]\n"
      ]
     },
     "execution_count": 4,
     "metadata": {},
     "output_type": "execute_result"
    }
   ],
   "source": [
    "composante_connexe exemple1 0;;"
   ]
  },
  {
   "cell_type": "markdown",
   "metadata": {},
   "source": [
    "### Terminaison\n",
    "\n",
    "Variant de boucle :\n",
    "- Pour la version 1 (sans doublons dans $G$), le nombre de sommets non noirs est un variant de boucle.\n",
    "- Pour la version 2 (avec A_visiter qui peut contenir des doublons), on peut prendree le couple (nombre de sommets non noir,|aVisiter|) pour l'ordre lexicographique (Demonstration dans le poly). \n",
    "\n",
    "### Complexité\n",
    "\n",
    "Méthode de l'exercice 1 :  \n",
    "Prendre chaque ligne, voir ce qu'elle coute et combien de fois max elle est executée.\n",
    "\n",
    "On a alors $C=O(|A|)+O(|S|)$"
   ]
  },
  {
   "cell_type": "code",
   "execution_count": 5,
   "metadata": {},
   "outputs": [
    {
     "data": {
      "text/plain": [
       "val composante_connexe : int list array -> int -> int list = <fun>\n"
      ]
     },
     "execution_count": 5,
     "metadata": {},
     "output_type": "execute_result"
    }
   ],
   "source": [
    "let composante_connexe g sd=\n",
    "  let n= Array.length g in (*O(1)*)\n",
    "  let deja_vu= Array.make n false in (*O(n)*)\n",
    "  let a_Visiter= Queue.create () in (*O(1)*)\n",
    "  Queue.add sd a_Visiter;  (*O(1)*)\n",
    "  let rec visite_voisins = function  (*O(|A|)*)\n",
    "    | [] -> () (*O(1)*)\n",
    "    | t::q -> Queue.add t a_Visiter; (*O(1)*)\n",
    "              visite_voisins q \n",
    "  in\n",
    "  while  not (Queue.is_empty a_Visiter) do (*O(|A|)*)  (* Nombre d'élément au max dans la file : O(|A|)*)\n",
    "    let s= Queue.take a_Visiter in (*O(|A|)*)\n",
    "    if not (deja_vu.(s)) then    (*O(|A|)*)\n",
    "    (\n",
    "      visite_voisins g.(s);  (*O(|A|)*)\n",
    "      deja_vu.(s) <- true;   (*O(|S|)*)\n",
    "    )\n",
    "  done;\n",
    "  (* Maintenant, la composante connexe de sd correspond aux sommets de deja_vu *)\n",
    "  let res = ref [] in (*O(1)*)\n",
    "  for i=0 to n-1 do (*O(n)*)\n",
    "    if deja_vu.(i) then  (*O(n)*)\n",
    "      res:= i::(!res)(*O(n)*)\n",
    "  done;\n",
    "  !res(*O(1)*)\n",
    "  ;;"
   ]
  },
  {
   "cell_type": "markdown",
   "metadata": {},
   "source": [
    "## Parcours en largeur\n",
    "\n",
    "Un parcours en largeur traite d'abord les sommets les plus proches du sommet de départ.\n",
    "\n",
    "Pour réaliser un parcours en largeur, on prend aVisiter de type file d'attente.  \n",
    "Les deux exemples précedents étaient des parcours en largeur.  \n",
    "\n",
    "Evolution de la file d'attente sur un exemple\n",
    "\n",
    "$\\vec{(0)}$  \n",
    "$\\vec{(4,5)}$  \n",
    "$\\vec{(4,2,4)}$  \n",
    "$\\vec{(3,2,4,2)}$  \n",
    "$\\vec{(1,3,2,4)}$  \n",
    "$\\vec{(1,3,2)}$  \n",
    "$\\vec{(1,3)}$  \n",
    "$\\vec{(1,1)}$  \n",
    "$\\vec{(1)}$  \n",
    "$\\vec{(\\emptyset)}$  \n",
    "\n",
    "### Invariant de boucle du parcours en largeur\n",
    "\n",
    "**Propriété :**  \n",
    "A un certain instant d'un parcours en largeur. Soit $n$ le nombre de sommets dans la file et $s_0,...,s_{n-1}$ les sommets dans l'ordre.  \n",
    "Alors $\\exists d \\in \\mathbb N$ et $k \\in [[0,n[[$ tq $\\vec{(s_{n-1},...,s_k,...,s_0)}$\n",
    "- $s_0,...,s_{k-1}$ sont à distance inferieur a $d$ de $s_d$\n",
    "- $s_k,...,s_{n}$ sont a distance inferieur a $d+1$ de $s_d$\n",
    "\n",
    "En outre, les noirs sont les sommets à distance inferieur a $d-1$ ainsi que les sommets à distance $d$ qui ne sont pas dans la file.\n",
    "\n",
    "**Application :** Montrons que le programme est correct :"
   ]
  },
  {
   "cell_type": "code",
   "execution_count": 7,
   "metadata": {},
   "outputs": [
    {
     "data": {
      "text/plain": [
       "val plus_court_chemin : int -> int -> int list array -> int list = <fun>\n"
      ]
     },
     "execution_count": 7,
     "metadata": {},
     "output_type": "execute_result"
    }
   ],
   "source": [
    "let plus_court_chemin sd sa g=\n",
    "  let n= Array.length g in\n",
    "  let chemin = Array.make n [] in \n",
    "  let dist = Array.make n (-1) in\n",
    "  let a_Visiter= Queue.create () in\n",
    "  let deja_vu= Array.make n false in\n",
    "\n",
    "  Queue.add sd a_Visiter; \n",
    "  chemin.(sd)<-[sd];\n",
    "\n",
    "  let rec visite_voisins s l=\n",
    "    match l with \n",
    "    | [] -> ()\n",
    "    | t::q when dist.(t)=(-1) ->   Queue.add t a_Visiter;\n",
    "                                    dist.(t)<- dist.(s)+1;\n",
    "                                    chemin.(t)<- t::chemin.(s);\n",
    "                                    visite_voisins s q\n",
    "    | t::q -> visite_voisins s q\n",
    "    in\n",
    "  while  not (Queue.is_empty a_Visiter) && chemin.(sa)=[] do\n",
    "    let s= Queue.take a_Visiter in\n",
    "    if not (deja_vu.(s)) then\n",
    "    (\n",
    "      visite_voisins s g.(s);\n",
    "      deja_vu.(s) <- true;\n",
    "    )\n",
    "  done;\n",
    "  List.rev chemin.(sa)\n",
    "  ;;"
   ]
  },
  {
   "cell_type": "markdown",
   "metadata": {},
   "source": [
    "On a programmé que la file n'a pas de doublon. Donc la file d'attente ne contient que des gris. Alors on peut enlevé la vérification avec le \"if\" (version du paragraphe 3.2.1 - \"Si s n'est pas noir\" de la boucle principale devient inutile)  \n",
    "\n",
    "$\\exists n \\in \\mathbb N, R \\in \\mathbb N,(s_0,...,s_n) \\in S^{n+1},d \\in \\mathbb N, aVivister = \\{s_n,...,s_k,s_{k+1},...s_n\\}$  \n",
    "\n",
    "Prouvons que la propriété est un invariant de boucle pour tout parcours en largeur :  \n",
    "$(I) : \"\\forall s \\in S, dist.(s)= d(s_d,s) \\text{ si } s \\text{ est noir ou gris et } -1 \\text{ sinon}$  \n",
    "En outre, aVisiter n'a pas de doublon et ne contient que des gris$\"$.\n",
    "\n",
    "*Initialisation :* Avant la boucle, \n",
    "- $aVisiter = \\vec{s_d}$ et $dist.(s_d)=0$\n",
    "- Pas de noir\n",
    "- $\\forall s \\in S-\\{s_d\\}, dist.(s)=-1$\n",
    "\n",
    "*Hérédité :* On se place au début d'une itération où $(I)$ est vrai.  \n",
    "Soit $n,k,(s_0,...,s_n,d$ :  \n",
    "$aVivister = \\{s_n,...,s_k,s_{k+1},...s_n\\}$  \n",
    "On extrait $s_0$ et on lance ```visite_voisin s0 g.(s0) ```.\n",
    "\n",
    "Soit t un voisin de $s_0$\n",
    "\n",
    "- Si $dist.(t) = -1 :$\n",
    "Donc t est blanc. De plus, tous les sommets à distance inférieur à $d$ de $s_d$ sont noirs ou gris.  \n",
    "Donc $d(s_d,t)>d$  \n",
    "En outre, $dist.(s_0)=d(s_d,s_0)$.  \n",
    "De plus $s_0$ n'est pas noir donc $s_0, \\not\\in \\barre{B}(s_d,d)$  \n",
    "\n",
    "Donc $d(s_d,d_0)=d$\n",
    "\n",
    "Donc il existe u chemin de distance d+1 de $s_d$ à t donc $d(s_d,t) \\leq d+1$\n",
    "\n",
    "Alors $d(s_d,t)=d+1$  \n",
    "\n",
    "On a bien $dist.(t) = d(s_d,t)$  \n",
    "\n",
    "- Si $dist.(t) \\not= -1$ alors t était noir ou gris, $dist.(t)=d(s_d,t)$\n",
    "- aVisiter n'a pas de doublon car on rajoute t que s'il était blanc et dans ce cas il n'était pas dans aVisiter  \n",
    "- aVisiter n'a que des gris, le seul sommets devenu noir en $s_0$ et il n'est plus dans aVisiter (pas de doublon)\n",
    "\n",
    "Conclusion : sortie de la boucle\n",
    "- Si aVisiter est vide et $dist.(s_a)=-1$ : alors $s_a$ n'est pas relié au sommet de départ $s_d$\n",
    "- Sinon, $dist.(s_a) = d(s_d,s_a)$"
   ]
  },
  {
   "cell_type": "code",
   "execution_count": null,
   "metadata": {},
   "outputs": [],
   "source": []
  }
 ],
 "metadata": {
  "kernelspec": {
   "display_name": "OCaml 4.07.0",
   "language": "OCaml",
   "name": "ocaml-jupyter"
  },
  "language_info": {
   "codemirror_mode": "text/x-ocaml",
   "file_extension": ".ml",
   "mimetype": "text/x-ocaml",
   "name": "OCaml",
   "nbconverter_exporter": null,
   "pygments_lexer": "OCaml",
   "version": "4.07.0"
  }
 },
 "nbformat": 4,
 "nbformat_minor": 2
}
