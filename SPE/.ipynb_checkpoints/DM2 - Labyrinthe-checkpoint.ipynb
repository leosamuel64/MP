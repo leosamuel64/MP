{
 "cells": [
  {
   "cell_type": "markdown",
   "metadata": {},
   "source": [
    "**Question 1 :**  \n",
    "\n"
   ]
  },
  {
   "cell_type": "code",
   "execution_count": 1,
   "metadata": {},
   "outputs": [
    {
     "data": {
      "text/plain": [
       "val chemin : int -> int -> int list array -> int -> int -> int list = <fun>\n"
      ]
     },
     "execution_count": 1,
     "metadata": {},
     "output_type": "execute_result"
    }
   ],
   "source": [
    "let chemin sd sa l n p=\n",
    "  (*  Entrées : <int> sd -> sommet de départ  \n",
    "                <int> sa -> sommet d'arrivé\n",
    "                <int list Array> l -> un labyrinthe\n",
    "                <int> n,p -> dimension du labyrinthe l\n",
    "      Sortie :  <int list> -> un chemin de l entre sa et sd\n",
    "  *)\n",
    "  let deja_vu = Array.make (n*p) false in\n",
    "  let rec visite_sommet si path =\n",
    "    deja_vu.(si)<-true;\n",
    "    if si = sd then \n",
    "      path\n",
    "    else\n",
    "      visite_voisins si path l.(si) \n",
    "  and visite_voisins si path = function\n",
    "    | [] -> []\n",
    "    | t::q when not(deja_vu.(t)) -> \n",
    "                    let essai = visite_sommet t (t::path) in\n",
    "                      if essai = [] then\n",
    "                        visite_voisins si path q\n",
    "                      else\n",
    "                        essai\n",
    "    |_::q -> visite_voisins si path q\n",
    "    in visite_sommet sa [sa]\n",
    ";;"
   ]
  },
  {
   "cell_type": "markdown",
   "metadata": {},
   "source": [
    "**Question 2 :**\n",
    "\n",
    "\n",
    "Soit $k \\in ⟦0,np⟦$ le numéro d'un sommet.  \n",
    "On a $j\\equiv k [p]$.  \n",
    "Avec la notation Ocaml on a $j=$ ```k mod p```.  \n",
    "On note $\\omega$ = ```k mod p```  \n",
    "On en déduit$\\footnote{sans tricher...}$ : $i=\\frac {(k-\\omega)}{p}$  \n",
    "\n",
    "Soit $v_d, v_g, v_h, v_b$ les voisins de k à droite, à gauche, en haut et en bas.  \n",
    "On a :   \n",
    "$v_d = k+p$  \n",
    "$v_g = k-p$   \n",
    "$v_h = k-1$  \n",
    "$v_b = k+1$  \n",
    "\n",
    "Soit $v$ un sommet voisin de $k$. $v$ est toujours dans le labyrinthe $\\Leftrightarrow v \\in ⟦0,np⟦ \\Leftrightarrow 0 \\leq v < np$"
   ]
  },
  {
   "cell_type": "markdown",
   "metadata": {},
   "source": [
    "**Question 3 :**  \n",
    "\n"
   ]
  },
  {
   "cell_type": "code",
   "execution_count": 2,
   "metadata": {},
   "outputs": [
    {
     "data": {
      "text/plain": [
       "val voisins : int -> int -> int -> int list = <fun>\n"
      ]
     },
     "execution_count": 2,
     "metadata": {},
     "output_type": "execute_result"
    }
   ],
   "source": [
    "let voisins n p k =\n",
    "  (*  Entrées :   <int> n,p -> dimension du labyrinthe\n",
    "                  <int> k -> sommet\n",
    "  *)\n",
    "  let var = [|p; -p; 1; -1|] \n",
    "  and prod = n*p\n",
    "  and res = ref [] in\n",
    "\n",
    "  for i=0 to 3 do\n",
    "    let v=k+var.(i) in\n",
    "      if v < prod && v>=0 then\n",
    "        res:= v::!res\n",
    "  done;\n",
    "  !res\n",
    ";;"
   ]
  },
  {
   "cell_type": "code",
   "execution_count": 3,
   "metadata": {},
   "outputs": [
    {
     "data": {
      "text/plain": [
       "- : int list = [3; 5; 1; 7]\n"
      ]
     },
     "execution_count": 3,
     "metadata": {},
     "output_type": "execute_result"
    },
    {
     "data": {
      "text/plain": [
       "- : int list = [1; 3]\n"
      ]
     },
     "execution_count": 3,
     "metadata": {},
     "output_type": "execute_result"
    }
   ],
   "source": [
    "voisins 3 3 4;;\n",
    "voisins 3 3 0;;"
   ]
  },
  {
   "cell_type": "markdown",
   "metadata": {},
   "source": [
    "**Question 4 :**  \n",
    "\n",
    "\n",
    "On associe à chaque voisin un flottant entre $0$ et $1$.  \n",
    "\n",
    "La liste des voisins est alors une liste de couple $(\\text{flottant}, \\text{sommet})$.  \n",
    "\n",
    "Pour finir, on trie la liste des couples puis on garde uniquement les voisins.\n",
    "\n",
    "\n",
    "&nbsp;\n",
    "\n",
    "\n",
    "&nbsp;"
   ]
  },
  {
   "cell_type": "code",
   "execution_count": 4,
   "metadata": {},
   "outputs": [
    {
     "data": {
      "text/plain": [
       "val triInsertion : 'a list -> 'a list = <fun>\n"
      ]
     },
     "execution_count": 4,
     "metadata": {},
     "output_type": "execute_result"
    },
    {
     "data": {
      "text/plain": [
       "val voisins_desordre : int -> int -> int -> int list = <fun>\n"
      ]
     },
     "execution_count": 4,
     "metadata": {},
     "output_type": "execute_result"
    }
   ],
   "source": [
    "let rec triInsertion l = \n",
    "  (*  Entrée :  <list> l -> liste en desordre\n",
    "      Sortie :  <list> -> liste l triee \n",
    "  *)\n",
    "  let rec insertion x = function\n",
    "    | [] -> [x]\n",
    "    | t::q when t>x -> x::t::q\n",
    "    | t::q -> t::(insertion x q)\n",
    "  in\n",
    "  match l with\n",
    "      | [] -> []\n",
    "      | t::q -> insertion t (triInsertion q)\n",
    ";;\n",
    "\n",
    "let voisins_desordre n p k=\n",
    "  (*  Entrées :   <int> n,p -> dimension du labyrinthe\n",
    "                  <int> k -> sommet\n",
    "  *)\n",
    "  let var = [|p; -p; 1; -1|] \n",
    "  and prod = n*p\n",
    "  and res = ref [] in\n",
    "\n",
    "  for i=0 to 3 do\n",
    "    let v=k+var.(i) in\n",
    "      if v < prod && v>=0 then\n",
    "        res:= (Random.float 1.,v)::!res\n",
    "  done;\n",
    "\n",
    "  let melange = triInsertion !res in\n",
    "  let rec decoupled= function\n",
    "    | [] -> []\n",
    "    | (a,b)::q -> b::(decoupled q)\n",
    "\n",
    "  in decoupled melange\n",
    ";;"
   ]
  },
  {
   "cell_type": "code",
   "execution_count": 5,
   "metadata": {},
   "outputs": [
    {
     "data": {
      "text/plain": [
       "- : int list = [8; 15; 13; 20]\n"
      ]
     },
     "execution_count": 5,
     "metadata": {},
     "output_type": "execute_result"
    },
    {
     "data": {
      "text/plain": [
       "- : int list = [15; 13; 8; 20]\n"
      ]
     },
     "execution_count": 5,
     "metadata": {},
     "output_type": "execute_result"
    },
    {
     "data": {
      "text/plain": [
       "- : int list = [15; 8; 20; 13]\n"
      ]
     },
     "execution_count": 5,
     "metadata": {},
     "output_type": "execute_result"
    }
   ],
   "source": [
    "voisins_desordre 6 6 14;;\n",
    "voisins_desordre 6 6 14;;\n",
    "voisins_desordre 6 6 14;;"
   ]
  },
  {
   "cell_type": "markdown",
   "metadata": {},
   "source": [
    "**Question 5 :**  \n",
    "\n"
   ]
  },
  {
   "cell_type": "code",
   "execution_count": 6,
   "metadata": {},
   "outputs": [
    {
     "data": {
      "text/plain": [
       "val creer_Graphe : int -> int -> int list array = <fun>\n"
      ]
     },
     "execution_count": 6,
     "metadata": {},
     "output_type": "execute_result"
    }
   ],
   "source": [
    "let creer_Graphe n p=\n",
    "  (*  Entrées : <int> n,p -> dimension du labyrinthe\n",
    "      Sortie :  <int list array> -> le graphe du \"labyrinthe\" sans mur\n",
    "  *)\n",
    "  let prod = n*p in\n",
    "  let res = Array.make prod [] in\n",
    "  for k=0 to prod-1 do\n",
    "      res.(k) <- voisins_desordre n p k;\n",
    "  done;\n",
    "  res \n",
    ";;"
   ]
  },
  {
   "cell_type": "code",
   "execution_count": 7,
   "metadata": {},
   "outputs": [
    {
     "data": {
      "text/plain": [
       "- : int list array =\n",
       "[|[3; 1]; [2; 0; 4]; [1; 3; 5]; [6; 0; 4; 2]; [7; 1; 3; 5]; [2; 6; 4; 8];\n",
       "  [3; 5; 7]; [6; 4; 8]; [5; 7]|]\n"
      ]
     },
     "execution_count": 7,
     "metadata": {},
     "output_type": "execute_result"
    },
    {
     "data": {
      "text/plain": [
       "- : int list array = [|[1; 2]; [3; 2; 0]; [3; 1; 0]; [1; 2]|]\n"
      ]
     },
     "execution_count": 7,
     "metadata": {},
     "output_type": "execute_result"
    }
   ],
   "source": [
    "creer_Graphe 3 3;;\n",
    "creer_Graphe 2 2;;"
   ]
  },
  {
   "cell_type": "markdown",
   "metadata": {},
   "source": [
    "**Question 6 :**  \n",
    "\n"
   ]
  },
  {
   "cell_type": "code",
   "execution_count": 8,
   "metadata": {},
   "outputs": [
    {
     "data": {
      "text/plain": [
       "val labyrinthe_aleatoire : int -> int -> int list array = <fun>\n"
      ]
     },
     "execution_count": 8,
     "metadata": {},
     "output_type": "execute_result"
    }
   ],
   "source": [
    "let labyrinthe_aleatoire n p=\n",
    "    (*  Entrées : <int> n,p -> dimension du labyrinthe\n",
    "      Sortie :  <int list array> -> le graphe du labyrinthe avec des murs\n",
    "  *)\n",
    "  let prod = n*p in\n",
    "  let deja_vu = Array.make prod false\n",
    "  and laby = Array.make prod [] in\n",
    "\n",
    "  let ajoute_arete sa sb=\n",
    "    (* Ajoute une arete entre les sommets a et b *)\n",
    "    laby.(sa) <- sb::laby.(sa);\n",
    "    laby.(sb) <- sa::laby.(sb);\n",
    "    in\n",
    "\n",
    "  let rec visite_sommet k=\n",
    "    deja_vu.(k) <- true;\n",
    "    visite_voisins k (voisins_desordre n p k)\n",
    "\n",
    "  and visite_voisins k = function\n",
    "    | [] -> ()\n",
    "    | t::q when not(deja_vu.(t)) -> ajoute_arete k t;\n",
    "                                    visite_sommet t;\n",
    "                                    visite_voisins k q;\n",
    "    | t::q -> visite_voisins k q\n",
    "\n",
    "    in visite_sommet 0;\n",
    "    laby\n",
    "  ;;"
   ]
  },
  {
   "cell_type": "code",
   "execution_count": 9,
   "metadata": {},
   "outputs": [
    {
     "data": {
      "text/plain": [
       "- : int list array = [|[2]; [3]; [3; 0]; [1; 2]|]\n"
      ]
     },
     "execution_count": 9,
     "metadata": {},
     "output_type": "execute_result"
    },
    {
     "data": {
      "text/plain": [
       "- : int list array = [|[2]; [3]; [3; 0]; [1; 2]|]\n"
      ]
     },
     "execution_count": 9,
     "metadata": {},
     "output_type": "execute_result"
    },
    {
     "data": {
      "text/plain": [
       "- : int list array = [|[2]; [3]; [3; 0]; [1; 2]|]\n"
      ]
     },
     "execution_count": 9,
     "metadata": {},
     "output_type": "execute_result"
    },
    {
     "data": {
      "text/plain": [
       "- : int list array = [|[1]; [2; 0]; [3; 1]; [2]|]\n"
      ]
     },
     "execution_count": 9,
     "metadata": {},
     "output_type": "execute_result"
    },
    {
     "data": {
      "text/plain": [
       "- : int list array = [|[1]; [3; 0]; [3]; [2; 1]|]\n"
      ]
     },
     "execution_count": 9,
     "metadata": {},
     "output_type": "execute_result"
    }
   ],
   "source": [
    "labyrinthe_aleatoire 2 2;;\n",
    "labyrinthe_aleatoire 2 2;;\n",
    "labyrinthe_aleatoire 2 2;;\n",
    "labyrinthe_aleatoire 2 2;;\n",
    "labyrinthe_aleatoire 2 2;;"
   ]
  }
 ],
 "metadata": {
  "kernelspec": {
   "display_name": "OCaml 4.07.0",
   "language": "OCaml",
   "name": "ocaml-jupyter"
  },
  "language_info": {
   "codemirror_mode": "text/x-ocaml",
   "file_extension": ".ml",
   "mimetype": "text/x-ocaml",
   "name": "OCaml",
   "nbconverter_exporter": null,
   "pygments_lexer": "OCaml",
   "version": "4.07.0"
  }
 },
 "nbformat": 4,
 "nbformat_minor": 2
}
