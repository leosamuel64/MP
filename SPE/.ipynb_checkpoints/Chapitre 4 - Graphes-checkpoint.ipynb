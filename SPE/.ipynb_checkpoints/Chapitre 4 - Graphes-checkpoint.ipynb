{
 "cells": [
  {
   "cell_type": "markdown",
   "metadata": {},
   "source": [
    "# Vocabulaire\n",
    "\n",
    "Un graphe est formé de :\n",
    "- un ensemble, appelé ensemble des sommets (Noté $S$ ou $V$)\n",
    "- un sous-ensemble de $S^2$, appelé ensemble des arrêtes (Noté $E$)\n",
    "\n",
    "**Exemple :** $S={1,2,3,4}$ et $A={(1,2),(1,3),(2,1)}$ Alors $(S,A)$ est un graphe.  \n",
    "Représentation graphique : \n",
    "\n",
    "![/mnt/c/Users/leosa/Desktop/INFO/CPGE/MP/SPE/graphe1.png]()  \n",
    "\n",
    "Soit $k=(S,A)$ un graphe.  \n",
    "- Un chemin est une suite $(s_0,...,s_n) \\in S^{n+1}$ tq $\\forall i \\in [[0,n[[, (s_i,s_{i+1}\\in A$  \n",
    "- Deux sommet $s$,$t$ $\\in S^n$ sont dits reliés lorsqu'il existe un chemin de $s$ à $t$.\n",
    "- La longueur d'un chemin est le nombre d'arretes empruntées\n",
    "- $\\forall (s,t)) \\in S^2)$ deux sommets reliés. On note $d(s,t)$ la longueur du plus court chemin de $s$ à $t$.\n",
    "- On dit que $G$ est non orienté lorsque $\\forall (s,t) \\in S^2, (s,t) \\in A \\equiv (t,s) \\in A$.  \n",
    "- Supposons G non-orienté\n",
    "    - on dit que G est connexe lorsque tous ses sommets sont reliés\n",
    "    - $\\forall ss \\in S$, on appelle composant connexe de $s$ l'ensemble des sommets accessible depuis $s$\n",
    "\n",
    "**Propriété :** Supp G connexe et non orienté. La distance vérifie :\n",
    "- $\\forall (s,t) \\in S^2, d(s,t)=d(t,s)$\n",
    "- $\\forall (s,t,u) \\in S^3, d(s,t) \\leq d(s,u) + d(u,t)$ (Inégalité triangulaire)\n",
    "- $\\forall (s,t) \\in S^2, d(s,t)=0 \\equiv s=t$\n",
    "\n",
    "Remarque : Si $G$ n'est pas connexe, on pose $\\forall (s,t) \\in S^2$ non connectés : $d(s,t)=+\\infty$  \n",
    "\n",
    "- si $G$ est orienté, les deux derniers points restent valides\n",
    "\n",
    "**Demonstration :** Soit $(s,t) \\in S^2$, notons $a=d(s,t)$ et $b=d(t,s)$.  \n",
    "Montrons que $a=b$  \n",
    "Soit $\\gamma$ un plus court chemin de $s$ à $t$. Il est de longueur a. Soit $s_o,...,s_a$ les sommets traversé par $\\gamma$.  \n",
    "\n",
    "$(s_a,s_{a-1},...,s_o)$ est aussi un chemin. Notons le $\\gamma^T$. Sa longueur est $a$.  \n",
    "Donc il existe un chemin de longueur $a$ de $t$ vers $s$. Donc $d(t,s)\\leq l$, cad $b\\leq a$.  \n",
    "Puis avec le même raisonement, on a $a\\leq b$  \n",
    "\n",
    "Soit $(s,t,u) \\in S^3$. Soit $\\gamma_1$ un chemin de $s$ à $t$ et $\\gamma_2$ un chemin de $t$ à $s$.  \n",
    "\n",
    "Notons $@$ la concatenation des chemin et $|.|$ la longueur.  \n",
    "$\\gamma_1 @ \\gamma_2$ est un chemin de s à u de longueur $|\\gamma_1|+|\\gamma_2|$  \n",
    "Donc il existe un chemin de $s$ à $u$ de longueur $|\\gamma_1|+|\\gamma_2|$.  \n",
    "Donc $d(s,u) \\leq |\\gamma_1|+|\\gamma_2| = d(s,t)+d(t,u)$\n",
    "\n",
    "Soit $(s,t) \\in S^2$ :  \n",
    "Si $s=t$, soit $\\gamma=(s)$. $\\gamma$ relie $s$ à $t$ et sa longueur est $0$.  \n",
    "\n",
    "Si $d(s,t)=0$. Soit $\\gamma$ un plus court chemin de $s$ à $t$. $|\\gamma|=0$. Donc le sommet de départ est le sommet d'arrivé donc $s=t$ "
   ]
  },
  {
   "cell_type": "markdown",
   "metadata": {},
   "source": [
    "# Implementation\n",
    "\n",
    "Soit $G$ un graphe et $(S,E) ses composants$  \n",
    "Soit $n=|S|$.  \n",
    "On supp dans la suite que $S=[[0,n[[$  \n",
    "On utilise principalement deux méthodes pour enregistrer G.\n",
    "\n",
    "- Matrice d'adjacence  \n",
    "C'est la matrice $M\\in \\mathbb M_n(\\mathbb N)$ tq $\\forall (i,j) \\in [[0,n[[^2, M_{i,j}=(1 si (i,j) \\in A) (0 sinon)$\n",
    "\n",
    "- Tableau de liste d'adjacences  \n",
    "C'est le tableau g de longueur n tq $\\forall i \\in [[0,n[[.\n",
    "g.(i) contient la liste des voisins de i"
   ]
  },
  {
   "cell_type": "code",
   "execution_count": 1,
   "metadata": {},
   "outputs": [
    {
     "data": {
      "text/plain": [
       "type graphe1 = int array array\n"
      ]
     },
     "execution_count": 1,
     "metadata": {},
     "output_type": "execute_result"
    },
    {
     "data": {
      "text/plain": [
       "type graphe2 = int list array\n"
      ]
     },
     "execution_count": 1,
     "metadata": {},
     "output_type": "execute_result"
    }
   ],
   "source": [
    "type graphe1 = int array array;;\n",
    "type graphe2 = int list array;; "
   ]
  },
  {
   "cell_type": "code",
   "execution_count": null,
   "metadata": {},
   "outputs": [],
   "source": []
  }
 ],
 "metadata": {
  "kernelspec": {
   "display_name": "OCaml 4.07.0",
   "language": "OCaml",
   "name": "ocaml-jupyter"
  },
  "language_info": {
   "codemirror_mode": "text/x-ocaml",
   "file_extension": ".ml",
   "mimetype": "text/x-ocaml",
   "name": "OCaml",
   "nbconverter_exporter": null,
   "pygments_lexer": "OCaml",
   "version": "4.07.0"
  }
 },
 "nbformat": 4,
 "nbformat_minor": 2
}
